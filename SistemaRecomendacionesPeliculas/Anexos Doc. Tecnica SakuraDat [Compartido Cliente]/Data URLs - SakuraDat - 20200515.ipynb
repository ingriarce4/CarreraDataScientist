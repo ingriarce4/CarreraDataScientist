{
 "cells": [
  {
   "cell_type": "markdown",
   "metadata": {},
   "source": [
    "# Prueba - Fundamentos Data Science\n",
    "---\n",
    "Martes 19 de mayo de 2020, Santiago de Chile\n",
    "\n",
    "### Sakura SPA\n",
    "**Miembros de la Célula:** \n",
    "\n",
    "Susana Arce\n",
    "\n",
    "Fabiola Aravena\n",
    "\n",
    "Rodrigo Pereira\n",
    "\n",
    "--- \n",
    "\n",
    "**Administrador de Contrato:** Gonzalo Seguel\n",
    "\n",
    "**Sponsor:** Andrea Villaroel\n",
    "\n",
    "---  \n",
    "\n",
    "#### Objetivo:\n",
    "Nuestro sponsor posee un cátalogo de contenido audiovisual de 12.294 títulos de Anime, requiere poder efecturar recomendaciones de qué ver a los usuarios en base a otros Anime han sido de su gusto.\n",
    "\n",
    "#### Propuesta:\n",
    "Aplicación web en donde el usuario seleccione de una lista de Anime propuestos los que han sido de su gusto, y en base a ello se le entregue una lista de otras alternativas que sean a fin con sus preferencias.\n",
    "\n",
    "---\n",
    "## Búsqueda de Posters asociados a los anime\n",
    "\n",
    "Este registro, muestra la labor realizar para hacer una ingesta de la data asociada a url en donde se encuentran las portadas de cada título de anime, esta data adicional se ingesto para ser utilizada en la fase de producción de la plataforma.\n"
   ]
  },
  {
   "cell_type": "code",
   "execution_count": 1,
   "metadata": {},
   "outputs": [],
   "source": [
    "# Importación de librerías para procesamiento de datos.\n",
    "import pandas as pd\n",
    "import numpy as np\n",
    "\n",
    "import matplotlib.pyplot as plt\n",
    "import seaborn as sns\n",
    "plt.style.use('seaborn')\n",
    "\n",
    "import factor_analyzer as factor\n",
    "import missingno as msngo\n",
    "\n",
    "import warnings\n",
    "warnings.filterwarnings(action=\"ignore\")"
   ]
  },
  {
   "cell_type": "code",
   "execution_count": 32,
   "metadata": {},
   "outputs": [],
   "source": [
    "subgenre = [\"Action\",\"Adventure\",\"Cars\",\"Comedy\",\"Dementia\",\"Demons\",\"Drama\",\"Ecchi\",\"Fantasy\",\"Game\",\"Harem\",\"Hentai\",\"Historical\",\"Horror\",\"Josei\",\"Kids\",\"Magic\",\"MartialArts\",\"Mecha\",\"Military\",\"Music\",\"Mystery\",\"Parody\",\"Police\",\"Psychological\",\"Romance\",\"Samurai\",\n",
    "\"School\",\"Sci-Fi\",\"Seinen\",\"Shoujo\",\"ShoujoAi\",\"Shounen\",\"ShounenAi\",\"SliceofLife\",\"Space\",\"Sports\",\"Supernatural\",\"SuperPower\",\"Thriller\",\"Vampire\",\"Yaoi\",\"Yuri\"]"
   ]
  },
  {
   "cell_type": "markdown",
   "metadata": {},
   "source": [
    "---\n",
    "### Recogida de datos\n",
    "\n",
    "Es importante indicar que existe un límite comercial de 5.000 consultas diarias a la API que nos proporciona los posters de anime\n"
   ]
  },
  {
   "cell_type": "code",
   "execution_count": 30,
   "metadata": {},
   "outputs": [],
   "source": [
    "#Importamos los data sets de las ingestas anteriores realizadas\n",
    "df_t1 = pd.read_csv(\"titulos_con_url_1.csv\", sep=\";\") \n",
    "df_t2 = pd.read_csv(\"titulos_con_url_2.csv\", sep=\";\") \n",
    "df_t3 = pd.read_csv(\"titulos_con_url_3.csv\", sep=\";\") \n",
    "df_t44 = pd.read_csv(\"titulos_con_url_44.csv\", sep=\";\") \n",
    "df_t45 = pd.read_csv(\"titulos_con_url_45.csv\", sep=\";\") \n",
    "df_t46 = pd.read_csv(\"titulos_con_url_46.csv\", sep=\";\") "
   ]
  },
  {
   "cell_type": "code",
   "execution_count": 111,
   "metadata": {
    "scrolled": true
   },
   "outputs": [
    {
     "data": {
      "text/html": [
       "<div>\n",
       "<style scoped>\n",
       "    .dataframe tbody tr th:only-of-type {\n",
       "        vertical-align: middle;\n",
       "    }\n",
       "\n",
       "    .dataframe tbody tr th {\n",
       "        vertical-align: top;\n",
       "    }\n",
       "\n",
       "    .dataframe thead th {\n",
       "        text-align: right;\n",
       "    }\n",
       "</style>\n",
       "<table border=\"1\" class=\"dataframe\">\n",
       "  <thead>\n",
       "    <tr style=\"text-align: right;\">\n",
       "      <th></th>\n",
       "      <th>Unnamed: 0</th>\n",
       "      <th>index</th>\n",
       "      <th>anime_id</th>\n",
       "      <th>name</th>\n",
       "      <th>genre</th>\n",
       "      <th>type</th>\n",
       "      <th>episodes</th>\n",
       "      <th>rating</th>\n",
       "      <th>members</th>\n",
       "      <th>log_members</th>\n",
       "      <th>...</th>\n",
       "      <th>ShounenAi</th>\n",
       "      <th>SliceofLife</th>\n",
       "      <th>Space</th>\n",
       "      <th>Sports</th>\n",
       "      <th>Supernatural</th>\n",
       "      <th>SuperPower</th>\n",
       "      <th>Thriller</th>\n",
       "      <th>Vampire</th>\n",
       "      <th>Yaoi</th>\n",
       "      <th>Yuri</th>\n",
       "    </tr>\n",
       "  </thead>\n",
       "  <tbody>\n",
       "    <tr>\n",
       "      <th>0</th>\n",
       "      <td>0</td>\n",
       "      <td>5</td>\n",
       "      <td>32935</td>\n",
       "      <td>Haikyuu!!: Karasuno Koukou VS Shiratorizawa Ga...</td>\n",
       "      <td>Comedy, Drama, School, Shounen, Sports</td>\n",
       "      <td>TV</td>\n",
       "      <td>10.0</td>\n",
       "      <td>9.15</td>\n",
       "      <td>93351</td>\n",
       "      <td>11.444122</td>\n",
       "      <td>...</td>\n",
       "      <td>NaN</td>\n",
       "      <td>NaN</td>\n",
       "      <td>NaN</td>\n",
       "      <td>1.0</td>\n",
       "      <td>NaN</td>\n",
       "      <td>NaN</td>\n",
       "      <td>NaN</td>\n",
       "      <td>NaN</td>\n",
       "      <td>NaN</td>\n",
       "      <td>NaN</td>\n",
       "    </tr>\n",
       "    <tr>\n",
       "      <th>1</th>\n",
       "      <td>1</td>\n",
       "      <td>7</td>\n",
       "      <td>820</td>\n",
       "      <td>Ginga Eiyuu Densetsu</td>\n",
       "      <td>Drama, Military, Sci-Fi, Space</td>\n",
       "      <td>OVA</td>\n",
       "      <td>110.0</td>\n",
       "      <td>9.11</td>\n",
       "      <td>80679</td>\n",
       "      <td>11.298234</td>\n",
       "      <td>...</td>\n",
       "      <td>NaN</td>\n",
       "      <td>NaN</td>\n",
       "      <td>1.0</td>\n",
       "      <td>NaN</td>\n",
       "      <td>NaN</td>\n",
       "      <td>NaN</td>\n",
       "      <td>NaN</td>\n",
       "      <td>NaN</td>\n",
       "      <td>NaN</td>\n",
       "      <td>NaN</td>\n",
       "    </tr>\n",
       "    <tr>\n",
       "      <th>2</th>\n",
       "      <td>2</td>\n",
       "      <td>11</td>\n",
       "      <td>28851</td>\n",
       "      <td>Koe no Katachi</td>\n",
       "      <td>Drama, School, Shounen</td>\n",
       "      <td>Movie</td>\n",
       "      <td>1.0</td>\n",
       "      <td>9.05</td>\n",
       "      <td>102733</td>\n",
       "      <td>11.539889</td>\n",
       "      <td>...</td>\n",
       "      <td>NaN</td>\n",
       "      <td>NaN</td>\n",
       "      <td>NaN</td>\n",
       "      <td>NaN</td>\n",
       "      <td>NaN</td>\n",
       "      <td>NaN</td>\n",
       "      <td>NaN</td>\n",
       "      <td>NaN</td>\n",
       "      <td>NaN</td>\n",
       "      <td>NaN</td>\n",
       "    </tr>\n",
       "    <tr>\n",
       "      <th>3</th>\n",
       "      <td>3</td>\n",
       "      <td>33</td>\n",
       "      <td>28957</td>\n",
       "      <td>Mushishi Zoku Shou: Suzu no Shizuku</td>\n",
       "      <td>Adventure, Fantasy, Historical, Mystery, Seine...</td>\n",
       "      <td>Movie</td>\n",
       "      <td>1.0</td>\n",
       "      <td>8.75</td>\n",
       "      <td>32266</td>\n",
       "      <td>10.381769</td>\n",
       "      <td>...</td>\n",
       "      <td>NaN</td>\n",
       "      <td>1.0</td>\n",
       "      <td>NaN</td>\n",
       "      <td>NaN</td>\n",
       "      <td>1.0</td>\n",
       "      <td>NaN</td>\n",
       "      <td>NaN</td>\n",
       "      <td>NaN</td>\n",
       "      <td>NaN</td>\n",
       "      <td>NaN</td>\n",
       "    </tr>\n",
       "    <tr>\n",
       "      <th>4</th>\n",
       "      <td>4</td>\n",
       "      <td>37</td>\n",
       "      <td>31757</td>\n",
       "      <td>Kizumonogatari II: Nekketsu-hen</td>\n",
       "      <td>Action, Mystery, Supernatural, Vampire</td>\n",
       "      <td>Movie</td>\n",
       "      <td>1.0</td>\n",
       "      <td>8.73</td>\n",
       "      <td>34347</td>\n",
       "      <td>10.444270</td>\n",
       "      <td>...</td>\n",
       "      <td>NaN</td>\n",
       "      <td>NaN</td>\n",
       "      <td>NaN</td>\n",
       "      <td>NaN</td>\n",
       "      <td>1.0</td>\n",
       "      <td>NaN</td>\n",
       "      <td>NaN</td>\n",
       "      <td>1.0</td>\n",
       "      <td>NaN</td>\n",
       "      <td>NaN</td>\n",
       "    </tr>\n",
       "  </tbody>\n",
       "</table>\n",
       "<p>5 rows × 53 columns</p>\n",
       "</div>"
      ],
      "text/plain": [
       "   Unnamed: 0  index  anime_id  \\\n",
       "0           0      5     32935   \n",
       "1           1      7       820   \n",
       "2           2     11     28851   \n",
       "3           3     33     28957   \n",
       "4           4     37     31757   \n",
       "\n",
       "                                                name  \\\n",
       "0  Haikyuu!!: Karasuno Koukou VS Shiratorizawa Ga...   \n",
       "1                               Ginga Eiyuu Densetsu   \n",
       "2                                     Koe no Katachi   \n",
       "3                Mushishi Zoku Shou: Suzu no Shizuku   \n",
       "4                    Kizumonogatari II: Nekketsu-hen   \n",
       "\n",
       "                                               genre   type  episodes  rating  \\\n",
       "0             Comedy, Drama, School, Shounen, Sports     TV      10.0    9.15   \n",
       "1                     Drama, Military, Sci-Fi, Space    OVA     110.0    9.11   \n",
       "2                             Drama, School, Shounen  Movie       1.0    9.05   \n",
       "3  Adventure, Fantasy, Historical, Mystery, Seine...  Movie       1.0    8.75   \n",
       "4             Action, Mystery, Supernatural, Vampire  Movie       1.0    8.73   \n",
       "\n",
       "   members  log_members  ...  ShounenAi  SliceofLife  Space  Sports  \\\n",
       "0    93351    11.444122  ...        NaN          NaN    NaN     1.0   \n",
       "1    80679    11.298234  ...        NaN          NaN    1.0     NaN   \n",
       "2   102733    11.539889  ...        NaN          NaN    NaN     NaN   \n",
       "3    32266    10.381769  ...        NaN          1.0    NaN     NaN   \n",
       "4    34347    10.444270  ...        NaN          NaN    NaN     NaN   \n",
       "\n",
       "   Supernatural  SuperPower  Thriller  Vampire  Yaoi  Yuri  \n",
       "0           NaN         NaN       NaN      NaN   NaN   NaN  \n",
       "1           NaN         NaN       NaN      NaN   NaN   NaN  \n",
       "2           NaN         NaN       NaN      NaN   NaN   NaN  \n",
       "3           1.0         NaN       NaN      NaN   NaN   NaN  \n",
       "4           1.0         NaN       NaN      1.0   NaN   NaN  \n",
       "\n",
       "[5 rows x 53 columns]"
      ]
     },
     "execution_count": 111,
     "metadata": {},
     "output_type": "execute_result"
    }
   ],
   "source": [
    "df_titulos_generos = pd.read_csv(\"titulos_generos_VF.csv\", sep=\";\") \n",
    "df_titulos_generos.head()"
   ]
  },
  {
   "cell_type": "code",
   "execution_count": 118,
   "metadata": {},
   "outputs": [
    {
     "data": {
      "text/plain": [
       "(7492, 54)"
      ]
     },
     "execution_count": 118,
     "metadata": {},
     "output_type": "execute_result"
    }
   ],
   "source": [
    "df_titulos_generos.shape"
   ]
  },
  {
   "cell_type": "markdown",
   "metadata": {},
   "source": [
    "---\n",
    "### Procesamiento de Urls\n",
    "\n",
    "Se analizan los datos de los registros de días anteriores"
   ]
  },
  {
   "cell_type": "code",
   "execution_count": 6,
   "metadata": {},
   "outputs": [],
   "source": [
    "df_titulos_generos[\"url\"] = None"
   ]
  },
  {
   "cell_type": "code",
   "execution_count": 112,
   "metadata": {
    "scrolled": false
   },
   "outputs": [
    {
     "data": {
      "text/plain": [
       "True     7805\n",
       "False    4489\n",
       "Name: url, dtype: int64"
      ]
     },
     "execution_count": 112,
     "metadata": {},
     "output_type": "execute_result"
    }
   ],
   "source": [
    "df_t46[\"url\"].isnull().value_counts()"
   ]
  },
  {
   "cell_type": "code",
   "execution_count": 34,
   "metadata": {},
   "outputs": [],
   "source": [
    "df_t46[\"new_url\"]=None"
   ]
  },
  {
   "cell_type": "code",
   "execution_count": 52,
   "metadata": {},
   "outputs": [
    {
     "data": {
      "text/plain": [
       "True     7805\n",
       "False    4489\n",
       "Name: new_url, dtype: int64"
      ]
     },
     "execution_count": 52,
     "metadata": {},
     "output_type": "execute_result"
    }
   ],
   "source": [
    "df_t46[\"new_url\"] = np.where( pd.isnull(df_t46[\"url\"]),df_t1[\"url\"],df_t46[\"url\"])\n",
    "df_t46[\"new_url\"].isnull().value_counts()"
   ]
  },
  {
   "cell_type": "code",
   "execution_count": 53,
   "metadata": {},
   "outputs": [
    {
     "data": {
      "text/plain": [
       "True     7805\n",
       "False    4489\n",
       "Name: new_url, dtype: int64"
      ]
     },
     "execution_count": 53,
     "metadata": {},
     "output_type": "execute_result"
    }
   ],
   "source": [
    "df_t46[\"new_url\"] = np.where( pd.isnull(df_t46[\"new_url\"]),df_t2[\"url\"],df_t46[\"new_url\"])\n",
    "df_t46[\"new_url\"].isnull().value_counts()"
   ]
  },
  {
   "cell_type": "code",
   "execution_count": 54,
   "metadata": {},
   "outputs": [
    {
     "data": {
      "text/plain": [
       "True     7805\n",
       "False    4489\n",
       "Name: new_url, dtype: int64"
      ]
     },
     "execution_count": 54,
     "metadata": {},
     "output_type": "execute_result"
    }
   ],
   "source": [
    "df_t46[\"new_url\"] = np.where( pd.isnull(df_t46[\"new_url\"]),df_t3[\"url\"],df_t46[\"new_url\"])\n",
    "df_t46[\"new_url\"].isnull().value_counts()"
   ]
  },
  {
   "cell_type": "code",
   "execution_count": 55,
   "metadata": {
    "scrolled": true
   },
   "outputs": [
    {
     "data": {
      "text/plain": [
       "True     7805\n",
       "False    4489\n",
       "Name: new_url, dtype: int64"
      ]
     },
     "execution_count": 55,
     "metadata": {},
     "output_type": "execute_result"
    }
   ],
   "source": [
    "df_t46[\"new_url\"] = np.where( pd.isnull(df_t46[\"new_url\"]),df_t45[\"url\"],df_t46[\"new_url\"])\n",
    "df_t46[\"new_url\"].isnull().value_counts()"
   ]
  },
  {
   "cell_type": "markdown",
   "metadata": {},
   "source": [
    "---"
   ]
  },
  {
   "cell_type": "code",
   "execution_count": 113,
   "metadata": {
    "scrolled": true
   },
   "outputs": [
    {
     "data": {
      "text/html": [
       "<div>\n",
       "<style scoped>\n",
       "    .dataframe tbody tr th:only-of-type {\n",
       "        vertical-align: middle;\n",
       "    }\n",
       "\n",
       "    .dataframe tbody tr th {\n",
       "        vertical-align: top;\n",
       "    }\n",
       "\n",
       "    .dataframe thead th {\n",
       "        text-align: right;\n",
       "    }\n",
       "</style>\n",
       "<table border=\"1\" class=\"dataframe\">\n",
       "  <thead>\n",
       "    <tr style=\"text-align: right;\">\n",
       "      <th></th>\n",
       "      <th>anime_id</th>\n",
       "      <th>new_url</th>\n",
       "    </tr>\n",
       "  </thead>\n",
       "  <tbody>\n",
       "    <tr>\n",
       "      <th>0</th>\n",
       "      <td>32281</td>\n",
       "      <td>https://imdb-api.com/images/original/MV5BODRmZ...</td>\n",
       "    </tr>\n",
       "    <tr>\n",
       "      <th>1</th>\n",
       "      <td>5114</td>\n",
       "      <td>https://imdb-api.com/images/original/MV5BZmEzN...</td>\n",
       "    </tr>\n",
       "    <tr>\n",
       "      <th>2</th>\n",
       "      <td>28977</td>\n",
       "      <td>https://imdb-api.com/images/original/MV5BNzM4Y...</td>\n",
       "    </tr>\n",
       "    <tr>\n",
       "      <th>3</th>\n",
       "      <td>9253</td>\n",
       "      <td>https://imdb-api.com/images/original/MV5BYmJhM...</td>\n",
       "    </tr>\n",
       "    <tr>\n",
       "      <th>4</th>\n",
       "      <td>9969</td>\n",
       "      <td>https://imdb-api.com/images/original/MV5BNzM4Y...</td>\n",
       "    </tr>\n",
       "  </tbody>\n",
       "</table>\n",
       "</div>"
      ],
      "text/plain": [
       "   anime_id                                            new_url\n",
       "0     32281  https://imdb-api.com/images/original/MV5BODRmZ...\n",
       "1      5114  https://imdb-api.com/images/original/MV5BZmEzN...\n",
       "2     28977  https://imdb-api.com/images/original/MV5BNzM4Y...\n",
       "3      9253  https://imdb-api.com/images/original/MV5BYmJhM...\n",
       "4      9969  https://imdb-api.com/images/original/MV5BNzM4Y..."
      ]
     },
     "execution_count": 113,
     "metadata": {},
     "output_type": "execute_result"
    }
   ],
   "source": [
    "df_transfer = df_t46.loc[:,[\"anime_id\",\"new_url\"]]\n",
    "df_transfer.head()"
   ]
  },
  {
   "cell_type": "code",
   "execution_count": 114,
   "metadata": {},
   "outputs": [
    {
     "data": {
      "text/plain": [
       "(12294, 2)"
      ]
     },
     "execution_count": 114,
     "metadata": {},
     "output_type": "execute_result"
    }
   ],
   "source": [
    "df_transfer.shape"
   ]
  },
  {
   "cell_type": "code",
   "execution_count": 115,
   "metadata": {
    "scrolled": true
   },
   "outputs": [
    {
     "data": {
      "text/html": [
       "<div>\n",
       "<style scoped>\n",
       "    .dataframe tbody tr th:only-of-type {\n",
       "        vertical-align: middle;\n",
       "    }\n",
       "\n",
       "    .dataframe tbody tr th {\n",
       "        vertical-align: top;\n",
       "    }\n",
       "\n",
       "    .dataframe thead th {\n",
       "        text-align: right;\n",
       "    }\n",
       "</style>\n",
       "<table border=\"1\" class=\"dataframe\">\n",
       "  <thead>\n",
       "    <tr style=\"text-align: right;\">\n",
       "      <th></th>\n",
       "      <th>anime_id</th>\n",
       "      <th>new_url</th>\n",
       "      <th>Unnamed: 0</th>\n",
       "      <th>index</th>\n",
       "      <th>name</th>\n",
       "      <th>genre</th>\n",
       "      <th>type</th>\n",
       "      <th>episodes</th>\n",
       "      <th>rating</th>\n",
       "      <th>members</th>\n",
       "      <th>...</th>\n",
       "      <th>ShounenAi</th>\n",
       "      <th>SliceofLife</th>\n",
       "      <th>Space</th>\n",
       "      <th>Sports</th>\n",
       "      <th>Supernatural</th>\n",
       "      <th>SuperPower</th>\n",
       "      <th>Thriller</th>\n",
       "      <th>Vampire</th>\n",
       "      <th>Yaoi</th>\n",
       "      <th>Yuri</th>\n",
       "    </tr>\n",
       "  </thead>\n",
       "  <tbody>\n",
       "    <tr>\n",
       "      <th>0</th>\n",
       "      <td>32935</td>\n",
       "      <td>https://imdb-api.com/images/original/MV5BNzQ1M...</td>\n",
       "      <td>0</td>\n",
       "      <td>5</td>\n",
       "      <td>Haikyuu!!: Karasuno Koukou VS Shiratorizawa Ga...</td>\n",
       "      <td>Comedy, Drama, School, Shounen, Sports</td>\n",
       "      <td>TV</td>\n",
       "      <td>10.0</td>\n",
       "      <td>9.15</td>\n",
       "      <td>93351</td>\n",
       "      <td>...</td>\n",
       "      <td>NaN</td>\n",
       "      <td>NaN</td>\n",
       "      <td>NaN</td>\n",
       "      <td>1.0</td>\n",
       "      <td>NaN</td>\n",
       "      <td>NaN</td>\n",
       "      <td>NaN</td>\n",
       "      <td>NaN</td>\n",
       "      <td>NaN</td>\n",
       "      <td>NaN</td>\n",
       "    </tr>\n",
       "    <tr>\n",
       "      <th>1</th>\n",
       "      <td>820</td>\n",
       "      <td>NaN</td>\n",
       "      <td>1</td>\n",
       "      <td>7</td>\n",
       "      <td>Ginga Eiyuu Densetsu</td>\n",
       "      <td>Drama, Military, Sci-Fi, Space</td>\n",
       "      <td>OVA</td>\n",
       "      <td>110.0</td>\n",
       "      <td>9.11</td>\n",
       "      <td>80679</td>\n",
       "      <td>...</td>\n",
       "      <td>NaN</td>\n",
       "      <td>NaN</td>\n",
       "      <td>1.0</td>\n",
       "      <td>NaN</td>\n",
       "      <td>NaN</td>\n",
       "      <td>NaN</td>\n",
       "      <td>NaN</td>\n",
       "      <td>NaN</td>\n",
       "      <td>NaN</td>\n",
       "      <td>NaN</td>\n",
       "    </tr>\n",
       "    <tr>\n",
       "      <th>2</th>\n",
       "      <td>28851</td>\n",
       "      <td>https://imdb-api.com/images/original/MV5BZGRkO...</td>\n",
       "      <td>2</td>\n",
       "      <td>11</td>\n",
       "      <td>Koe no Katachi</td>\n",
       "      <td>Drama, School, Shounen</td>\n",
       "      <td>Movie</td>\n",
       "      <td>1.0</td>\n",
       "      <td>9.05</td>\n",
       "      <td>102733</td>\n",
       "      <td>...</td>\n",
       "      <td>NaN</td>\n",
       "      <td>NaN</td>\n",
       "      <td>NaN</td>\n",
       "      <td>NaN</td>\n",
       "      <td>NaN</td>\n",
       "      <td>NaN</td>\n",
       "      <td>NaN</td>\n",
       "      <td>NaN</td>\n",
       "      <td>NaN</td>\n",
       "      <td>NaN</td>\n",
       "    </tr>\n",
       "    <tr>\n",
       "      <th>3</th>\n",
       "      <td>28957</td>\n",
       "      <td>https://imdb-api.com/images/original/MV5BMjM5N...</td>\n",
       "      <td>3</td>\n",
       "      <td>33</td>\n",
       "      <td>Mushishi Zoku Shou: Suzu no Shizuku</td>\n",
       "      <td>Adventure, Fantasy, Historical, Mystery, Seine...</td>\n",
       "      <td>Movie</td>\n",
       "      <td>1.0</td>\n",
       "      <td>8.75</td>\n",
       "      <td>32266</td>\n",
       "      <td>...</td>\n",
       "      <td>NaN</td>\n",
       "      <td>1.0</td>\n",
       "      <td>NaN</td>\n",
       "      <td>NaN</td>\n",
       "      <td>1.0</td>\n",
       "      <td>NaN</td>\n",
       "      <td>NaN</td>\n",
       "      <td>NaN</td>\n",
       "      <td>NaN</td>\n",
       "      <td>NaN</td>\n",
       "    </tr>\n",
       "    <tr>\n",
       "      <th>4</th>\n",
       "      <td>31757</td>\n",
       "      <td>https://imdb-api.com/images/original/MV5BZjVjN...</td>\n",
       "      <td>4</td>\n",
       "      <td>37</td>\n",
       "      <td>Kizumonogatari II: Nekketsu-hen</td>\n",
       "      <td>Action, Mystery, Supernatural, Vampire</td>\n",
       "      <td>Movie</td>\n",
       "      <td>1.0</td>\n",
       "      <td>8.73</td>\n",
       "      <td>34347</td>\n",
       "      <td>...</td>\n",
       "      <td>NaN</td>\n",
       "      <td>NaN</td>\n",
       "      <td>NaN</td>\n",
       "      <td>NaN</td>\n",
       "      <td>1.0</td>\n",
       "      <td>NaN</td>\n",
       "      <td>NaN</td>\n",
       "      <td>1.0</td>\n",
       "      <td>NaN</td>\n",
       "      <td>NaN</td>\n",
       "    </tr>\n",
       "  </tbody>\n",
       "</table>\n",
       "<p>5 rows × 54 columns</p>\n",
       "</div>"
      ],
      "text/plain": [
       "   anime_id                                            new_url  Unnamed: 0  \\\n",
       "0     32935  https://imdb-api.com/images/original/MV5BNzQ1M...           0   \n",
       "1       820                                                NaN           1   \n",
       "2     28851  https://imdb-api.com/images/original/MV5BZGRkO...           2   \n",
       "3     28957  https://imdb-api.com/images/original/MV5BMjM5N...           3   \n",
       "4     31757  https://imdb-api.com/images/original/MV5BZjVjN...           4   \n",
       "\n",
       "   index                                               name  \\\n",
       "0      5  Haikyuu!!: Karasuno Koukou VS Shiratorizawa Ga...   \n",
       "1      7                               Ginga Eiyuu Densetsu   \n",
       "2     11                                     Koe no Katachi   \n",
       "3     33                Mushishi Zoku Shou: Suzu no Shizuku   \n",
       "4     37                    Kizumonogatari II: Nekketsu-hen   \n",
       "\n",
       "                                               genre   type  episodes  rating  \\\n",
       "0             Comedy, Drama, School, Shounen, Sports     TV      10.0    9.15   \n",
       "1                     Drama, Military, Sci-Fi, Space    OVA     110.0    9.11   \n",
       "2                             Drama, School, Shounen  Movie       1.0    9.05   \n",
       "3  Adventure, Fantasy, Historical, Mystery, Seine...  Movie       1.0    8.75   \n",
       "4             Action, Mystery, Supernatural, Vampire  Movie       1.0    8.73   \n",
       "\n",
       "   members  ...  ShounenAi  SliceofLife  Space  Sports  Supernatural  \\\n",
       "0    93351  ...        NaN          NaN    NaN     1.0           NaN   \n",
       "1    80679  ...        NaN          NaN    1.0     NaN           NaN   \n",
       "2   102733  ...        NaN          NaN    NaN     NaN           NaN   \n",
       "3    32266  ...        NaN          1.0    NaN     NaN           1.0   \n",
       "4    34347  ...        NaN          NaN    NaN     NaN           1.0   \n",
       "\n",
       "   SuperPower  Thriller  Vampire  Yaoi  Yuri  \n",
       "0         NaN       NaN      NaN   NaN   NaN  \n",
       "1         NaN       NaN      NaN   NaN   NaN  \n",
       "2         NaN       NaN      NaN   NaN   NaN  \n",
       "3         NaN       NaN      NaN   NaN   NaN  \n",
       "4         NaN       NaN      1.0   NaN   NaN  \n",
       "\n",
       "[5 rows x 54 columns]"
      ]
     },
     "execution_count": 115,
     "metadata": {},
     "output_type": "execute_result"
    }
   ],
   "source": [
    "# Se cargan los registros existentes al data set de df_titulos\n",
    "df_titulos_generos = pd.merge(right=df_titulos_generos,left=df_transfer)\n",
    "df_titulos_generos.head()"
   ]
  },
  {
   "cell_type": "code",
   "execution_count": 116,
   "metadata": {
    "scrolled": true
   },
   "outputs": [
    {
     "data": {
      "text/plain": [
       "True     4689\n",
       "False    2803\n",
       "Name: new_url, dtype: int64"
      ]
     },
     "execution_count": 116,
     "metadata": {},
     "output_type": "execute_result"
    }
   ],
   "source": [
    "df_titulos_generos[\"new_url\"].isnull().value_counts()"
   ]
  },
  {
   "cell_type": "code",
   "execution_count": 117,
   "metadata": {
    "scrolled": true
   },
   "outputs": [
    {
     "data": {
      "text/plain": [
       "(7492, 54)"
      ]
     },
     "execution_count": 117,
     "metadata": {},
     "output_type": "execute_result"
    }
   ],
   "source": [
    "df_titulos_generos.shape"
   ]
  },
  {
   "cell_type": "code",
   "execution_count": 157,
   "metadata": {},
   "outputs": [
    {
     "data": {
      "text/plain": [
       "(4689, 55)"
      ]
     },
     "execution_count": 157,
     "metadata": {},
     "output_type": "execute_result"
    }
   ],
   "source": [
    "df_titulos = df_titulos_generos[df_titulos_generos[\"new_url\"].isnull()].reset_index()\n",
    "df_titulos.shape"
   ]
  },
  {
   "cell_type": "markdown",
   "metadata": {},
   "source": [
    "----"
   ]
  },
  {
   "cell_type": "markdown",
   "metadata": {},
   "source": [
    "**Ingestar imagen de los anime**"
   ]
  },
  {
   "cell_type": "code",
   "execution_count": 10,
   "metadata": {},
   "outputs": [],
   "source": [
    "#solo ejecutar una vez\n",
    "#df_titulos[\"url\"] = None"
   ]
  },
  {
   "cell_type": "code",
   "execution_count": 11,
   "metadata": {},
   "outputs": [],
   "source": [
    "import json\n",
    "import requests\n",
    "\n",
    "result = 0 #solo ejecutar una vez --> cantidad de títulos con respuesta no vacía\n",
    "url_cant = 0 #solo ejecutar una vez --> cantidad de títulos respondidos por la API\n",
    "contador = 0 #solo ejecutar una vez -- cantidad de títulos consultados\n"
   ]
  },
  {
   "cell_type": "markdown",
   "metadata": {},
   "source": [
    "## Ejecutar una celda por día"
   ]
  },
  {
   "cell_type": "code",
   "execution_count": 19,
   "metadata": {
    "scrolled": false
   },
   "outputs": [
    {
     "name": "stdout",
     "output_type": "stream",
     "text": [
      "Bonobono%20(TV)\n",
      "https://imdb-api.com/ja/API/SearchSeries/k_h2JDsS1e/Bonobono%20(TV)\n",
      "https://imdb-api.com/images/original/MV5BMDQzOTVhMDQtMTNkMi00MzE1LTg1ZjktYTYyY2U5OWZjZWMwXkEyXkFqcGdeQXVyNTY0NDkzNDc@._V1_Ratio0.7273_AL_.jpg\n",
      "FlashBack\n",
      "https://imdb-api.com/ja/API/SearchSeries/k_h2JDsS1e/FlashBack\n",
      "https://imdb-api.com/images/original/MV5BYjc4MzE2NzctNzQyMS00ZmRhLThhOTEtM2NkYjkzZTFjOWZiXkEyXkFqcGdeQXVyNjgzMjQ0MTA@._V1_Ratio0.7273_AL_.jpg\n",
      "Interlude\n",
      "https://imdb-api.com/ja/API/SearchSeries/k_h2JDsS1e/Interlude\n",
      "https://imdb-api.com/images/original/MV5BNjkyZGRjMmItOTY3YS00ZDc5LWFiMGItMGI4Njk5ZTk3NTRlXkEyXkFqcGdeQXVyMTA1OTEwNjE@._V1_Ratio0.7273_AL_.jpg\n",
      "Hairy%20Tale\n",
      "https://imdb-api.com/ja/API/SearchSeries/k_h2JDsS1e/Hairy%20Tale\n",
      "https://imdb-api.com/images/original/MV5BMmE4NmE1MjctN2E5MC00MWMyLWE0MTYtNjMyYjIwMmNhMGE3XkEyXkFqcGdeQXVyMTAwMzM3NDI3._V1_Ratio0.7273_AL_.jpg\n",
      "Piano\n",
      "https://imdb-api.com/ja/API/SearchSeries/k_h2JDsS1e/Piano\n",
      "https://imdb-api.com/images/original/MV5BNTBmZDFmNDctMWI3MS00MDE2LThiN2EtZDBjYzQxNGFiNWExXkEyXkFqcGdeQXVyNjU3MzA0NjE@._V1_Ratio0.7273_AL_.jpg\n",
      "Forsaken\n",
      "https://imdb-api.com/ja/API/SearchSeries/k_h2JDsS1e/Forsaken\n",
      "https://imdb-api.com/images/original/MV5BMDJhNDQ1MjktM2UzZi00M2M4LWIzNDAtZDQwY2Q1NDllNmM0XkEyXkFqcGdeQXVyMjY0MTQ0NjY@._V1_Ratio0.7273_AL_.jpg\n",
      "Hashire!\n",
      "https://imdb-api.com/ja/API/SearchSeries/k_h2JDsS1e/Hashire!\n",
      "https://imdb-api.com/images/original/nopicture.jpg\n",
      "Ijoku\n",
      "https://imdb-api.com/ja/API/SearchSeries/k_h2JDsS1e/Ijoku\n",
      "https://imdb-api.com/images/original/nopicture.jpg\n",
      "Shusaku\n",
      "https://imdb-api.com/ja/API/SearchSeries/k_h2JDsS1e/Shusaku\n",
      "https://imdb-api.com/images/original/nopicture.jpg\n",
      "Pendant\n",
      "https://imdb-api.com/ja/API/SearchSeries/k_h2JDsS1e/Pendant\n",
      "https://imdb-api.com/images/original/nopicture.jpg\n"
     ]
    }
   ],
   "source": [
    "for name in df_titulos[\"name\"]:\n",
    "    year = 0\n",
    "    namee = name.replace(\"/\",\"%20\")\n",
    "    namee = name.replace(\" \",\"%20\")\n",
    "    url = \"https://imdb-api.com/ja/API/SearchSeries/k_h2JDsS1e/\"+namee\n",
    "    if list(df_titulos[df_titulos[\"name\"] == name][\"type\"])[0] == \"Movie\":\n",
    "        url = \"https://imdb-api.com/ja/API/SearchMovie/k_h2JDsS1e/\"+namee\n",
    "\n",
    "    response = requests.request(\"GET\", url)\n",
    " #   print(response.status_code)\n",
    "    if response.status_code == 200:\n",
    "        if json.loads(response.text)[\"results\"] is not None:\n",
    "            if json.loads(response.text)[\"results\"] != []:\n",
    "                result = result +1\n",
    "                print(namee)\n",
    "                print(url)\n",
    "                for i in json.loads(response.text)[\"results\"]:\n",
    "                    df_titulos.loc[df_titulos[\"name\"]==name,\"url\"] = i[\"image\"]\n",
    "                    print(i[\"image\"])\n",
    "                    if  i[\"description\"][1:5].isdigit():\n",
    "                        yea = int(i[\"description\"][1:5])\n",
    "                        if yea > year:\n",
    "                            year = yea\n",
    "                            df_titulos.loc[df_titulos[\"name\"]==name,\"url\"] = i[\"image\"]\n",
    "#        print(df_titulos.loc[df_titulos[\"name\"]==name,\"url\"])\n",
    "#        print(\"-------------------------------------------------------\")\n",
    "        url_cant = url_cant +1\n",
    "    contador = contador +1"
   ]
  },
  {
   "cell_type": "code",
   "execution_count": 20,
   "metadata": {},
   "outputs": [
    {
     "name": "stdout",
     "output_type": "stream",
     "text": [
      "Cant. de consultas ejecutadas:\n",
      "4917\n",
      "Cant. de títulos con conexión establecida por la API:\n",
      "4850\n",
      "Cant. de títulos con resultados no vacíos\n",
      "11\n",
      "Cant. último título consultado:\n",
      "Sakura no Mori\n",
      "Ubicación último título consultado\n",
      "(array([4557]),)\n"
     ]
    }
   ],
   "source": [
    "print(\"Cant. de consultas ejecutadas:\")\n",
    "print(contador )\n",
    "print(\"Cant. de títulos con conexión establecida por la API:\")\n",
    "print(url_cant)\n",
    "print(\"Cant. de títulos con resultados no vacíos\")\n",
    "print(result)\n",
    "print(\"Cant. último título consultado:\")\n",
    "print(name)\n",
    "print(\"Ubicación último título consultado\")\n",
    "print(np.where(df_titulos[\"name\"]==name))"
   ]
  },
  {
   "cell_type": "code",
   "execution_count": 21,
   "metadata": {},
   "outputs": [
    {
     "data": {
      "text/plain": [
       "https://imdb-api.com/images/original/nopicture.jpg                                                                                               4\n",
       "https://imdb-api.com/images/original/MV5BNTBmZDFmNDctMWI3MS00MDE2LThiN2EtZDBjYzQxNGFiNWExXkEyXkFqcGdeQXVyNjU3MzA0NjE@._V1_Ratio0.7273_AL_.jpg    1\n",
       "https://imdb-api.com/images/original/MV5BMmE4NmE1MjctN2E5MC00MWMyLWE0MTYtNjMyYjIwMmNhMGE3XkEyXkFqcGdeQXVyMTAwMzM3NDI3._V1_Ratio0.7273_AL_.jpg    1\n",
       "https://imdb-api.com/images/original/MV5BMDJhNDQ1MjktM2UzZi00M2M4LWIzNDAtZDQwY2Q1NDllNmM0XkEyXkFqcGdeQXVyMjY0MTQ0NjY@._V1_Ratio0.7273_AL_.jpg    1\n",
       "https://imdb-api.com/images/original/MV5BYjc4MzE2NzctNzQyMS00ZmRhLThhOTEtM2NkYjkzZTFjOWZiXkEyXkFqcGdeQXVyNjgzMjQ0MTA@._V1_Ratio0.7273_AL_.jpg    1\n",
       "https://imdb-api.com/images/original/MV5BMDQzOTVhMDQtMTNkMi00MzE1LTg1ZjktYTYyY2U5OWZjZWMwXkEyXkFqcGdeQXVyNTY0NDkzNDc@._V1_Ratio0.7273_AL_.jpg    1\n",
       "https://imdb-api.com/images/original/MV5BNjkyZGRjMmItOTY3YS00ZDc5LWFiMGItMGI4Njk5ZTk3NTRlXkEyXkFqcGdeQXVyMTA1OTEwNjE@._V1_Ratio0.7273_AL_.jpg    1\n",
       "Name: url, dtype: int64"
      ]
     },
     "execution_count": 21,
     "metadata": {},
     "output_type": "execute_result"
    }
   ],
   "source": [
    "df_titulos[\"url\"].value_counts()"
   ]
  },
  {
   "cell_type": "code",
   "execution_count": 22,
   "metadata": {
    "scrolled": true
   },
   "outputs": [
    {
     "data": {
      "text/plain": [
       "True     4548\n",
       "False      10\n",
       "Name: url, dtype: int64"
      ]
     },
     "execution_count": 22,
     "metadata": {},
     "output_type": "execute_result"
    }
   ],
   "source": [
    "df_titulos[\"url\"].isnull().value_counts()"
   ]
  },
  {
   "cell_type": "markdown",
   "metadata": {},
   "source": [
    "*La ingesta se debe realizar parcial por limitantes comerciales del API*"
   ]
  },
  {
   "cell_type": "code",
   "execution_count": 175,
   "metadata": {},
   "outputs": [],
   "source": [
    "# Escribir DataFrame a CSV por \n",
    "df_titulos.to_csv('titulos_con_url_7.csv',sep=';')"
   ]
  },
  {
   "cell_type": "markdown",
   "metadata": {},
   "source": [
    "---"
   ]
  },
  {
   "cell_type": "code",
   "execution_count": 27,
   "metadata": {},
   "outputs": [
    {
     "name": "stdout",
     "output_type": "stream",
     "text": [
      "(7492, 54)\n"
     ]
    },
    {
     "data": {
      "text/html": [
       "<div>\n",
       "<style scoped>\n",
       "    .dataframe tbody tr th:only-of-type {\n",
       "        vertical-align: middle;\n",
       "    }\n",
       "\n",
       "    .dataframe tbody tr th {\n",
       "        vertical-align: top;\n",
       "    }\n",
       "\n",
       "    .dataframe thead th {\n",
       "        text-align: right;\n",
       "    }\n",
       "</style>\n",
       "<table border=\"1\" class=\"dataframe\">\n",
       "  <thead>\n",
       "    <tr style=\"text-align: right;\">\n",
       "      <th></th>\n",
       "      <th>anime_id</th>\n",
       "      <th>url_x</th>\n",
       "      <th>Unnamed: 0</th>\n",
       "      <th>url_y</th>\n",
       "      <th>name</th>\n",
       "      <th>genre</th>\n",
       "      <th>type</th>\n",
       "      <th>episodes</th>\n",
       "      <th>rating</th>\n",
       "      <th>members</th>\n",
       "      <th>...</th>\n",
       "      <th>ShounenAi</th>\n",
       "      <th>SliceofLife</th>\n",
       "      <th>Space</th>\n",
       "      <th>Sports</th>\n",
       "      <th>Supernatural</th>\n",
       "      <th>SuperPower</th>\n",
       "      <th>Thriller</th>\n",
       "      <th>Vampire</th>\n",
       "      <th>Yaoi</th>\n",
       "      <th>Yuri</th>\n",
       "    </tr>\n",
       "  </thead>\n",
       "  <tbody>\n",
       "    <tr>\n",
       "      <th>0</th>\n",
       "      <td>820</td>\n",
       "      <td>None</td>\n",
       "      <td>0</td>\n",
       "      <td>NaN</td>\n",
       "      <td>Ginga Eiyuu Densetsu</td>\n",
       "      <td>Drama, Military, Sci-Fi, Space</td>\n",
       "      <td>OVA</td>\n",
       "      <td>110.0</td>\n",
       "      <td>9.11</td>\n",
       "      <td>80679</td>\n",
       "      <td>...</td>\n",
       "      <td>NaN</td>\n",
       "      <td>NaN</td>\n",
       "      <td>1.0</td>\n",
       "      <td>NaN</td>\n",
       "      <td>NaN</td>\n",
       "      <td>NaN</td>\n",
       "      <td>NaN</td>\n",
       "      <td>NaN</td>\n",
       "      <td>NaN</td>\n",
       "      <td>NaN</td>\n",
       "    </tr>\n",
       "    <tr>\n",
       "      <th>1</th>\n",
       "      <td>30709</td>\n",
       "      <td>None</td>\n",
       "      <td>1</td>\n",
       "      <td>NaN</td>\n",
       "      <td>Kamisama Hajimemashita: Kako-hen</td>\n",
       "      <td>Comedy, Demons, Fantasy, Shoujo, Supernatural</td>\n",
       "      <td>OVA</td>\n",
       "      <td>4.0</td>\n",
       "      <td>8.64</td>\n",
       "      <td>33422</td>\n",
       "      <td>...</td>\n",
       "      <td>NaN</td>\n",
       "      <td>NaN</td>\n",
       "      <td>NaN</td>\n",
       "      <td>NaN</td>\n",
       "      <td>1.0</td>\n",
       "      <td>NaN</td>\n",
       "      <td>NaN</td>\n",
       "      <td>NaN</td>\n",
       "      <td>NaN</td>\n",
       "      <td>NaN</td>\n",
       "    </tr>\n",
       "    <tr>\n",
       "      <th>2</th>\n",
       "      <td>12431</td>\n",
       "      <td>None</td>\n",
       "      <td>2</td>\n",
       "      <td>NaN</td>\n",
       "      <td>Uchuu Kyoudai</td>\n",
       "      <td>Comedy, Sci-Fi, Seinen, Slice of Life, Space</td>\n",
       "      <td>TV</td>\n",
       "      <td>99.0</td>\n",
       "      <td>8.59</td>\n",
       "      <td>72958</td>\n",
       "      <td>...</td>\n",
       "      <td>NaN</td>\n",
       "      <td>1.0</td>\n",
       "      <td>1.0</td>\n",
       "      <td>NaN</td>\n",
       "      <td>NaN</td>\n",
       "      <td>NaN</td>\n",
       "      <td>NaN</td>\n",
       "      <td>NaN</td>\n",
       "      <td>NaN</td>\n",
       "      <td>NaN</td>\n",
       "    </tr>\n",
       "    <tr>\n",
       "      <th>3</th>\n",
       "      <td>17389</td>\n",
       "      <td>None</td>\n",
       "      <td>3</td>\n",
       "      <td>NaN</td>\n",
       "      <td>Kingdom 2nd Season</td>\n",
       "      <td>Action, Historical, Military, Seinen</td>\n",
       "      <td>TV</td>\n",
       "      <td>39.0</td>\n",
       "      <td>8.57</td>\n",
       "      <td>31234</td>\n",
       "      <td>...</td>\n",
       "      <td>NaN</td>\n",
       "      <td>NaN</td>\n",
       "      <td>NaN</td>\n",
       "      <td>NaN</td>\n",
       "      <td>NaN</td>\n",
       "      <td>NaN</td>\n",
       "      <td>NaN</td>\n",
       "      <td>NaN</td>\n",
       "      <td>NaN</td>\n",
       "      <td>NaN</td>\n",
       "    </tr>\n",
       "    <tr>\n",
       "      <th>4</th>\n",
       "      <td>24687</td>\n",
       "      <td>None</td>\n",
       "      <td>4</td>\n",
       "      <td>NaN</td>\n",
       "      <td>Mushishi Zoku Shou: Odoro no Michi</td>\n",
       "      <td>Adventure, Fantasy, Historical, Mystery, Seine...</td>\n",
       "      <td>Special</td>\n",
       "      <td>1.0</td>\n",
       "      <td>8.54</td>\n",
       "      <td>34011</td>\n",
       "      <td>...</td>\n",
       "      <td>NaN</td>\n",
       "      <td>1.0</td>\n",
       "      <td>NaN</td>\n",
       "      <td>NaN</td>\n",
       "      <td>1.0</td>\n",
       "      <td>NaN</td>\n",
       "      <td>NaN</td>\n",
       "      <td>NaN</td>\n",
       "      <td>NaN</td>\n",
       "      <td>NaN</td>\n",
       "    </tr>\n",
       "  </tbody>\n",
       "</table>\n",
       "<p>5 rows × 54 columns</p>\n",
       "</div>"
      ],
      "text/plain": [
       "   anime_id url_x  Unnamed: 0 url_y                                name  \\\n",
       "0       820  None           0   NaN                Ginga Eiyuu Densetsu   \n",
       "1     30709  None           1   NaN    Kamisama Hajimemashita: Kako-hen   \n",
       "2     12431  None           2   NaN                       Uchuu Kyoudai   \n",
       "3     17389  None           3   NaN                  Kingdom 2nd Season   \n",
       "4     24687  None           4   NaN  Mushishi Zoku Shou: Odoro no Michi   \n",
       "\n",
       "                                               genre     type  episodes  \\\n",
       "0                     Drama, Military, Sci-Fi, Space      OVA     110.0   \n",
       "1      Comedy, Demons, Fantasy, Shoujo, Supernatural      OVA       4.0   \n",
       "2       Comedy, Sci-Fi, Seinen, Slice of Life, Space       TV      99.0   \n",
       "3               Action, Historical, Military, Seinen       TV      39.0   \n",
       "4  Adventure, Fantasy, Historical, Mystery, Seine...  Special       1.0   \n",
       "\n",
       "   rating  members  ...  ShounenAi  SliceofLife  Space  Sports  Supernatural  \\\n",
       "0    9.11    80679  ...        NaN          NaN    1.0     NaN           NaN   \n",
       "1    8.64    33422  ...        NaN          NaN    NaN     NaN           1.0   \n",
       "2    8.59    72958  ...        NaN          1.0    1.0     NaN           NaN   \n",
       "3    8.57    31234  ...        NaN          NaN    NaN     NaN           NaN   \n",
       "4    8.54    34011  ...        NaN          1.0    NaN     NaN           1.0   \n",
       "\n",
       "   SuperPower  Thriller  Vampire  Yaoi  Yuri  \n",
       "0         NaN       NaN      NaN   NaN   NaN  \n",
       "1         NaN       NaN      NaN   NaN   NaN  \n",
       "2         NaN       NaN      NaN   NaN   NaN  \n",
       "3         NaN       NaN      NaN   NaN   NaN  \n",
       "4         NaN       NaN      NaN   NaN   NaN  \n",
       "\n",
       "[5 rows x 54 columns]"
      ]
     },
     "execution_count": 27,
     "metadata": {},
     "output_type": "execute_result"
    }
   ],
   "source": [
    "df_titulos_fusion = pd.merge(right=df_titulos_generos, right_on=\"anime_id\",\n",
    "                             left=df_titulos.loc[:,[\"anime_id\",\"url\"]], left_on=\"anime_id\",\n",
    "                             how=\"right\")\n",
    "print(df_titulos_fusion.shape)\n",
    "df_titulos_fusion.head()"
   ]
  },
  {
   "cell_type": "code",
   "execution_count": 28,
   "metadata": {},
   "outputs": [
    {
     "data": {
      "text/plain": [
       "True     4548\n",
       "False    2944\n",
       "Name: url, dtype: int64"
      ]
     },
     "execution_count": 28,
     "metadata": {},
     "output_type": "execute_result"
    }
   ],
   "source": [
    "df_titulos_fusion[\"url\"] = np.where( pd.isnull(df_titulos_fusion[\"url_y\"]),\n",
    "                                     df_titulos_fusion[\"url_x\"],\n",
    "                                     df_titulos_fusion[\"url_y\"])\n",
    "df_titulos_fusion[\"url\"].isnull().value_counts()"
   ]
  },
  {
   "cell_type": "code",
   "execution_count": 29,
   "metadata": {},
   "outputs": [
    {
     "data": {
      "text/plain": [
       "Index(['anime_id', 'url_x', 'Unnamed: 0', 'url_y', 'name', 'genre', 'type',\n",
       "       'episodes', 'rating', 'members', 'log_members', 'Action', 'Adventure',\n",
       "       'Cars', 'Comedy', 'Dementia', 'Demons', 'Drama', 'Ecchi', 'Fantasy',\n",
       "       'Game', 'Harem', 'Hentai', 'Historical', 'Horror', 'Josei', 'Kids',\n",
       "       'Magic', 'MartialArts', 'Mecha', 'Military', 'Music', 'Mystery',\n",
       "       'Parody', 'Police', 'Psychological', 'Romance', 'Samurai', 'School',\n",
       "       'Sci-Fi', 'Seinen', 'Shoujo', 'ShoujoAi', 'Shounen', 'ShounenAi',\n",
       "       'SliceofLife', 'Space', 'Sports', 'Supernatural', 'SuperPower',\n",
       "       'Thriller', 'Vampire', 'Yaoi', 'Yuri', 'url'],\n",
       "      dtype='object')"
      ]
     },
     "execution_count": 29,
     "metadata": {},
     "output_type": "execute_result"
    }
   ],
   "source": [
    "df_titulos_fusion.columns"
   ]
  },
  {
   "cell_type": "code",
   "execution_count": 30,
   "metadata": {},
   "outputs": [],
   "source": [
    "df_titulos_fusion.drop(['url_x', 'Unnamed: 0', 'url_y'],axis=1,inplace=True)"
   ]
  },
  {
   "cell_type": "code",
   "execution_count": 31,
   "metadata": {},
   "outputs": [],
   "source": [
    "# Exportamos a .csv los df de interacciones final\n",
    "df_titulos_fusion.to_csv('titulos_generos_VF20200519.csv',sep=';')"
   ]
  },
  {
   "cell_type": "markdown",
   "metadata": {},
   "source": [
    "---\n",
    "### Principales hallazgos:\n",
    "\n",
    "Se encuentran posters para 2.944 animes, sin embargo 438 corresponde a imagenes vacías.\n",
    "Se observa que en todos los generos existen animes con posters encontrado positivamente."
   ]
  },
  {
   "cell_type": "code",
   "execution_count": 35,
   "metadata": {},
   "outputs": [
    {
     "data": {
      "text/plain": [
       "True     4548\n",
       "False    2944\n",
       "Name: url, dtype: int64"
      ]
     },
     "execution_count": 35,
     "metadata": {},
     "output_type": "execute_result"
    }
   ],
   "source": [
    "df_titulos_fusion[\"url\"].isnull().value_counts()"
   ]
  },
  {
   "cell_type": "code",
   "execution_count": 36,
   "metadata": {
    "scrolled": false
   },
   "outputs": [
    {
     "name": "stdout",
     "output_type": "stream",
     "text": [
      "Action\n",
      "True     1006\n",
      "False     819\n",
      "Name: url, dtype: int64\n",
      "Adventure\n",
      "True     856\n",
      "False    706\n",
      "Name: url, dtype: int64\n",
      "Cars\n",
      "False    29\n",
      "True     15\n",
      "Name: url, dtype: int64\n",
      "Comedy\n",
      "True     1696\n",
      "False    1070\n",
      "Name: url, dtype: int64\n",
      "Dementia\n",
      "False    79\n",
      "True     51\n",
      "Name: url, dtype: int64\n",
      "Demons\n",
      "True     137\n",
      "False     59\n",
      "Name: url, dtype: int64\n",
      "Drama\n",
      "True     599\n",
      "False    585\n",
      "Name: url, dtype: int64\n",
      "Ecchi\n",
      "True     243\n",
      "False    153\n",
      "Name: url, dtype: int64\n",
      "Fantasy\n",
      "True     848\n",
      "False    524\n",
      "Name: url, dtype: int64\n",
      "Game\n",
      "True     68\n",
      "False    44\n",
      "Name: url, dtype: int64\n",
      "Harem\n",
      "True     99\n",
      "False    58\n",
      "Name: url, dtype: int64\n",
      "Hentai\n",
      "True     829\n",
      "False    174\n",
      "Name: url, dtype: int64\n",
      "Historical\n",
      "True     237\n",
      "False    211\n",
      "Name: url, dtype: int64\n",
      "Horror\n",
      "True     128\n",
      "False    110\n",
      "Name: url, dtype: int64\n",
      "Josei\n",
      "True     23\n",
      "False    11\n",
      "Name: url, dtype: int64\n",
      "Kids\n",
      "True     389\n",
      "False    222\n",
      "Name: url, dtype: int64\n",
      "Magic\n",
      "True     318\n",
      "False    198\n",
      "Name: url, dtype: int64\n",
      "MartialArts\n",
      "True     105\n",
      "False     64\n",
      "Name: url, dtype: int64\n",
      "Mecha\n",
      "True     386\n",
      "False    330\n",
      "Name: url, dtype: int64\n",
      "Military\n",
      "True     178\n",
      "False    135\n",
      "Name: url, dtype: int64\n",
      "Music\n",
      "True     270\n",
      "False    191\n",
      "Name: url, dtype: int64\n",
      "Mystery\n",
      "True     166\n",
      "False    117\n",
      "Name: url, dtype: int64\n",
      "Parody\n",
      "True     170\n",
      "False     78\n",
      "Name: url, dtype: int64\n",
      "Police\n",
      "False    74\n",
      "True     71\n",
      "Name: url, dtype: int64\n",
      "Psychological\n",
      "False    67\n",
      "True     47\n",
      "Name: url, dtype: int64\n",
      "Romance\n",
      "True     465\n",
      "False    405\n",
      "Name: url, dtype: int64\n",
      "Samurai\n",
      "True     57\n",
      "False    34\n",
      "Name: url, dtype: int64\n",
      "School\n",
      "True     410\n",
      "False    287\n",
      "Name: url, dtype: int64\n",
      "Sci-Fi\n",
      "True     801\n",
      "False    676\n",
      "Name: url, dtype: int64\n",
      "Seinen\n",
      "True     172\n",
      "False    139\n",
      "Name: url, dtype: int64\n",
      "Shoujo\n",
      "True     240\n",
      "False    173\n",
      "Name: url, dtype: int64\n",
      "ShoujoAi\n",
      "True     19\n",
      "False    19\n",
      "Name: url, dtype: int64\n",
      "Shounen\n",
      "True     670\n",
      "False    473\n",
      "Name: url, dtype: int64\n",
      "ShounenAi\n",
      "True     29\n",
      "False    18\n",
      "Name: url, dtype: int64\n",
      "SliceofLife\n",
      "True     354\n",
      "False    328\n",
      "Name: url, dtype: int64\n",
      "Space\n",
      "True     179\n",
      "False    104\n",
      "Name: url, dtype: int64\n",
      "Sports\n",
      "False    172\n",
      "True     168\n",
      "Name: url, dtype: int64\n",
      "Supernatural\n",
      "True     331\n",
      "False    226\n",
      "Name: url, dtype: int64\n",
      "SuperPower\n",
      "True     167\n",
      "False     93\n",
      "Name: url, dtype: int64\n",
      "Thriller\n",
      "True     20\n",
      "False    14\n",
      "Name: url, dtype: int64\n",
      "Vampire\n",
      "True     33\n",
      "False    24\n",
      "Name: url, dtype: int64\n",
      "Yaoi\n",
      "True     18\n",
      "False    10\n",
      "Name: url, dtype: int64\n",
      "Yuri\n",
      "True     28\n",
      "False    10\n",
      "Name: url, dtype: int64\n"
     ]
    }
   ],
   "source": [
    "for i in subgenre:\n",
    "    print (i)\n",
    "    print(df_titulos_fusion[df_titulos_fusion[i]==1][\"url\"].isnull().value_counts())"
   ]
  },
  {
   "cell_type": "code",
   "execution_count": 34,
   "metadata": {},
   "outputs": [
    {
     "data": {
      "text/plain": [
       "https://imdb-api.com/images/original/nopicture.jpg                                                                                                               438\n",
       "https://imdb-api.com/images/original/MV5BMGZhOTQ1YmEtODI4NC00MjdkLWFmNjktODIxMzk3OGUwMTk0XkEyXkFqcGdeQXVyMTkxNjUyNQ@@._V1_Ratio0.7273_AL_.jpg                     10\n",
       "https://imdb-api.com/images/original/MV5BZmJmYTIwMWUtMWI4ZC00NjA1LTk4OTMtZDgyZGE1ZjVlMWVjL2ltYWdlL2ltYWdlXkEyXkFqcGdeQXVyMjc4OTQ1OTA@._V1_Ratio0.7273_AL_.jpg      8\n",
       "https://imdb-api.com/images/original/MV5BNWFkNjQ1ZjAtZDMyZC00NWI3LWE2ZDctZWM2MmUxMTE5MzcwXkEyXkFqcGdeQXVyMTk2MDc1MjQ@._V1_Ratio0.7273_AL_.jpg                      6\n",
       "https://imdb-api.com/images/original/MV5BNTk1OWE3MmItNDhlYi00NGM4LTkwMWUtM2NkZWJiNjQyNGIxXkEyXkFqcGdeQXVyMTMxODk2OTU@._V1_Ratio0.7273_AL_.jpg                      6\n",
       "https://imdb-api.com/images/original/MV5BMTRmYWMzMTMtNTY2MC00NmEzLThiYWEtYThmZDNhNzgwNGEzXkEyXkFqcGdeQXVyMjc4OTQ1OTA@._V1_Ratio0.7273_AL_.jpg                      6\n",
       "https://imdb-api.com/images/original/MV5BZmFhMTQxZWUtNGVlZC00ZjFjLWI2NjQtMTAwN2M3NzhmNTdiXkEyXkFqcGdeQXVyNjg3MDM4Mzc@._V1_Ratio0.7273_AL_.jpg                      5\n",
       "https://imdb-api.com/images/original/MV5BY2MwZWNkZTgtYTQ4Ny00NjgzLWFjNjEtYjNhMjI2MzVjZWZjXkEyXkFqcGdeQXVyNjQ3MjI4NTk@._V1_Ratio0.7727_AL_.jpg                      5\n",
       "https://imdb-api.com/images/original/MV5BY2JlMThkZWEtNzdlYS00ZjVlLWE2ZWYtZGU2MmIwMWFjMzBkXkEyXkFqcGdeQXVyNjgwNTk4Mg@@._V1_Ratio0.8182_AL_.jpg                      5\n",
       "https://imdb-api.com/images/original/MV5BN2MwNjQ0NzAtODVlYi00NDU5LWFiZDQtMzMwOTBjOTZkODYxXkEyXkFqcGdeQXVyMTA3OTEyODI1._V1_Ratio0.7273_AL_.jpg                      5\n",
       "https://imdb-api.com/images/original/MV5BNjU1YjM2YzAtZWE2Ny00ZWNiLWFkZWItMDJhMzJiNDQwMmI4XkEyXkFqcGdeQXVyNTU1MjgyMjk@._V1_Ratio0.7273_AL_.jpg                      4\n",
       "https://imdb-api.com/images/original/MV5BY2MxMmRmN2QtY2ZmZS00YjMyLTk1MTQtMmQ2ZDcwNTI0YzU3XkEyXkFqcGdeQXVyNDg0NDIxMTU@._V1_Ratio0.7273_AL_.jpg                      4\n",
       "https://imdb-api.com/images/original/MV5BNWZjNWE1MDAtZGZkNS00ZjY2LWFhMWUtMWRlZjliMTQ0ZGM4XkEyXkFqcGdeQXVyOTgwMzk1MTA@._V1_Ratio0.7273_AL_.jpg                      4\n",
       "https://imdb-api.com/images/original/MV5BYjA3MWI5YzctMzc0ZC00YmMyLWFiMGEtZWNhODgzOTdkNTJkXkEyXkFqcGdeQXVyMTEwNTA2NjEy._V1_Ratio1.1818_AL_.jpg                      4\n",
       "https://imdb-api.com/images/original/MV5BNzgwNzI3MTE3Ml5BMl5BanBnXkFtZTcwMjc4NzIzMQ@@._V1_Ratio0.7273_AL_.jpg                                                      4\n",
       "https://imdb-api.com/images/original/MV5BMTcwMDEwMjI2OV5BMl5BanBnXkFtZTcwMzkxMjE1MQ@@._V1_Ratio0.7273_AL_.jpg                                                      4\n",
       "https://imdb-api.com/images/original/MV5BOGI2MmUyODgtOWQ5NS00OWY2LWE3NzctNzAyN2Y3ZjUxMzI0XkEyXkFqcGdeQXVyNjExODE1MDc@._V1_Ratio0.7273_AL_.jpg                      4\n",
       "https://imdb-api.com/images/original/MV5BNmU3MDRkN2MtN2VmYS00NDhmLTgxYWEtNjVkNDExNGQ5NmRkXkEyXkFqcGdeQXVyMTE3NTc4NDk@._V1_Ratio0.7273_AL_.jpg                      3\n",
       "https://imdb-api.com/images/original/MV5BMTYwNjM3MDk0Nl5BMl5BanBnXkFtZTcwNDc5NzIzMQ@@._V1_Ratio0.7273_AL_.jpg                                                      3\n",
       "https://imdb-api.com/images/original/MV5BNGJmMjVlZWYtZjZmOS00NWUyLWJlZGQtYzE2MTc5NzRkNzgwXkEyXkFqcGdeQXVyNjExODE1MDc@._V1_Ratio0.7273_AL_.jpg                      3\n",
       "https://imdb-api.com/images/original/MV5BYmIyMGIyN2ItMWY0My00OTI2LTkzODctNDU4YjdhYmY1ZWUyXkEyXkFqcGdeQXVyNjg5NDY4MDY@._V1_Ratio0.8636_AL_.jpg                      3\n",
       "https://imdb-api.com/images/original/MV5BNWIwODg4N2QtNzQyYy00YWYwLWI5MGQtYzk3ZjY1NTNhZmMyXkEyXkFqcGdeQXVyMjc4OTQ1OTA@._V1_Ratio0.6800_AL_.jpg                      3\n",
       "https://imdb-api.com/images/original/MV5BZDRkZDYzMDQtMjJkMi00ZTE4LTljZmMtY2E1NTIzNWQzNjkyXkEyXkFqcGdeQXVyNjExODE1MDc@._V1_Ratio0.7273_AL_.jpg                      3\n",
       "https://imdb-api.com/images/original/MV5BMmQ2YjYxMjItM2U3MS00NWEzLTgzYmMtOGZlZjBlM2ZjYzE1XkEyXkFqcGdeQXVyOTY0MDUzMDg@._V1_Ratio1.7727_AL_.jpg                      3\n",
       "https://imdb-api.com/images/original/MV5BYzQ1YjM5YWQtNzJiMi00YjhlLWE2YzItMzhhZTQ5N2QxNDZhXkEyXkFqcGdeQXVyMjY0MzgwMTc@._V1_Ratio0.7273_AL_.jpg                      3\n",
       "https://imdb-api.com/images/original/MV5BNWQ5NzEyNzUtYmFjMC00ZGViLWIwZjEtMzcwNWIzOTNlZTA3XkEyXkFqcGdeQXVyNTc3MDU1MTU@._V1_Ratio0.7273_AL_.jpg                      3\n",
       "https://imdb-api.com/images/original/MV5BYzRkMDNiM2YtZDNiYS00MzgzLThkNGMtZDAwZWRlMTViZDI4XkEyXkFqcGdeQXVyOTA3MTMyOTk@._V1_Ratio0.7273_AL_.jpg                      3\n",
       "https://imdb-api.com/images/original/MV5BZTQ4NDI5OTMtNTdiMS00NDRkLTljMjktYTM1MGFhNTc4NjU3L2ltYWdlL2ltYWdlXkEyXkFqcGdeQXVyMzQ2MTY3MDQ@._V1_Ratio0.7273_AL_.jpg      3\n",
       "https://imdb-api.com/images/original/MV5BYTk3MGM5ZWMtMDMxNi00ZTdlLThhOWMtNTczMmMyNGQ5YzI2XkEyXkFqcGdeQXVyMTkxOTE4Mzc@._V1_Ratio0.7273_AL_.jpg                      3\n",
       "https://imdb-api.com/images/original/MV5BOWM4ZDAxMzgtZjAyNi00MmEyLWEwYTgtNjE4MWMwOTFhOTIwXkEyXkFqcGdeQXVyMjc4OTQ1OTA@._V1_Ratio0.7273_AL_.jpg                      3\n",
       "                                                                                                                                                                ... \n",
       "https://imdb-api.com/images/original/MV5BNjI5YzRlNWMtODFkMS00NjIxLWExNjctNGMzODY2NGI3M2Y4XkEyXkFqcGdeQXVyMjc4OTQ1OTA@._V1_Ratio0.7273_AL_.jpg                      1\n",
       "https://imdb-api.com/images/original/MV5BMTY4NDExMzI0NV5BMl5BanBnXkFtZTgwNzA3ODg2NDE@._V1_Ratio0.7273_AL_.jpg                                                      1\n",
       "https://imdb-api.com/images/original/MV5BOTZlNzZmNzctYWNiMi00NTUxLTk1NDMtZGRkZGExNzMwZTRmXkEyXkFqcGdeQXVyNDg4MjkzNDk@._V1_Ratio1.7727_AL_.jpg                      1\n",
       "https://imdb-api.com/images/original/MV5BODk5N2NiMWUtNGExZC00MmVhLTkzYmQtOGM1NmMwYWMzODllXkEyXkFqcGdeQXVyMjI5MjU5OTI@._V1_Ratio0.7273_AL_.jpg                      1\n",
       "https://imdb-api.com/images/original/MV5BNTVlYzRkZTEtMTZiMi00YWM1LWI3OGUtYWQzMWRmMWMxMWRlXkEyXkFqcGdeQXVyNjUwMTQ4NjE@._V1_Ratio0.7273_AL_.jpg                      1\n",
       "https://imdb-api.com/images/original/MV5BNGE4YzhlYjgtNzJkMy00ZDQyLWJmOTMtNGVhZjcwYTE1MjdiXkEyXkFqcGdeQXVyMzgxODM4NjM@._V1_Ratio0.7273_AL_.jpg                      1\n",
       "https://imdb-api.com/images/original/MV5BOGRlNTllMmYtNTcyYy00MGJjLWFiY2UtMDE2NWY3ZmRkNjhmXkEyXkFqcGdeQXVyMzU3MDU3NjI@._V1_Ratio0.7273_AL_.jpg                      1\n",
       "https://imdb-api.com/images/original/MV5BNzUxZWY2ZjMtYTIzNy00Y2NiLThlZWUtOWE5MmFlNjNlMGVlXkEyXkFqcGdeQXVyNzYxMTExMzI@._V1_Ratio0.7273_AL_.jpg                      1\n",
       "https://imdb-api.com/images/original/MV5BMjAwZjEwODUtYTc0ZC00YTA3LWE4ODktYzNmN2FiYTM2MTNlXkEyXkFqcGdeQXVyMzUwMDU2MjM@._V1_Ratio0.7273_AL_.jpg                      1\n",
       "https://imdb-api.com/images/original/MV5BNTQyZTBkMTgtMWMzMy00NTExLWE2NGEtMDBlMDBmMzEyNWI3XkEyXkFqcGdeQXVyMTA3OTEyODI1._V1_Ratio0.7273_AL_.jpg                      1\n",
       "https://imdb-api.com/images/original/MV5BZmIxNTQ4ZDgtMTI1NC00YjZlLTg4OWMtOGI0OWI3Zjg3Y2UxXkEyXkFqcGdeQXVyMTA1OTEwNjE@._V1_Ratio1.0000_AL_.jpg                      1\n",
       "https://imdb-api.com/images/original/MV5BMGEyMDFkNWYtMTUxOS00ODFlLWFmZjAtNmY0YzI2YjIyYWUxXkEyXkFqcGdeQXVyNTYxNjI1OTY@._V1_Ratio2.0455_AL_.jpg                      1\n",
       "https://imdb-api.com/images/original/MV5BMTE0M2M0ZmItMjEwMy00YmUwLTk4ZjUtZjk0ZTRmOTQxMzdhXkEyXkFqcGdeQXVyMTA3OTEyODI1._V1_Ratio0.7273_AL_.jpg                      1\n",
       "https://imdb-api.com/images/original/MV5BZGI0ZjMwMzAtYjRmNi00YWIyLTkyNmQtNmFjZjYxNmIwMDVhL2ltYWdlXkEyXkFqcGdeQXVyNTIyOTIyMzQ@._V1_Ratio0.7273_AL_.jpg              1\n",
       "https://imdb-api.com/images/original/MV5BYzEwZjUwZDEtN2Y0YS00ZWMwLWIwMTUtOTFmNDU1ZTQwYzYyXkEyXkFqcGdeQXVyNjc3NzUwNTg@._V1_Ratio0.8182_AL_.jpg                      1\n",
       "https://imdb-api.com/images/original/MV5BMGU2MTI2MzktYjRiMS00ODhlLTk0YzUtNWUzN2RiMTFhMjVkXkEyXkFqcGdeQXVyMTEzOTk4Mzkw._V1_Ratio0.7273_AL_.jpg                      1\n",
       "https://imdb-api.com/images/original/MV5BMTU2MDg0Njk4MF5BMl5BanBnXkFtZTgwMTY0OTIyMTE@._V1_Ratio0.8182_AL_.jpg                                                      1\n",
       "https://imdb-api.com/images/original/MV5BMjMwMTY5NGYtNmVkNy00ZjgzLWE2YzUtNjBlZjlmMGJlYTFlXkEyXkFqcGdeQXVyNjI4NDUxOTc@._V1_Ratio0.7273_AL_.jpg                      1\n",
       "https://imdb-api.com/images/original/MV5BMzhiOThlN2ItYWI2Ny00NTBjLTkzNjUtNGJkZmJhNmU4OTRhXkEyXkFqcGdeQXVyNTAyODkwOQ@@._V1_Ratio0.7273_AL_.jpg                      1\n",
       "https://imdb-api.com/images/original/MV5BMjAzMzY4ODcwOV5BMl5BanBnXkFtZTgwMzkwMjY0NDE@._V1_Ratio1.3182_AL_.jpg                                                      1\n",
       "https://imdb-api.com/images/original/MV5BMTNlZWU1YjEtM2FkMS00ODNhLWFhMDMtM2E0NWFkNGI0MDI1XkEyXkFqcGdeQXVyMjQ2MTk1OTE@._V1_Ratio0.7273_AL_.jpg                      1\n",
       "https://imdb-api.com/images/original/MV5BNjg5ZDQyOTItNjdlZi00YzFjLWI1NmEtOWYzMGZmYmI4ODVjXkEyXkFqcGdeQXVyNjQyMjcwNDM@._V1_Ratio0.7273_AL_.jpg                      1\n",
       "https://imdb-api.com/images/original/MV5BYTZmMjM4NDQtZmRhNi00ODIzLTk4ZDAtNDRlY2U4YzI1NGZkXkEyXkFqcGdeQXVyNjY1MzM5Nzg@._V1_Ratio1.7727_AL_.jpg                      1\n",
       "https://imdb-api.com/images/original/MV5BMjQ3M2VjZWItNmIwYS00NjE5LTg0NTYtZmM3ZmFmNWIzMjQ1XkEyXkFqcGdeQXVyMzM4MjM0Nzg@._V1_Ratio0.7273_AL_.jpg                      1\n",
       "https://imdb-api.com/images/original/MV5BMzhkNzc4YmUtZWM1OC00YmJhLWFhNGItNGQ3ZDY5M2RlMjY2XkEyXkFqcGdeQXVyNTM3MDMyMDQ@._V1_Ratio0.7273_AL_.jpg                      1\n",
       "https://imdb-api.com/images/original/MV5BYjg0N2QwZDAtMTIyZC00ODU4LTllMmQtMTU3Mzc4ZWMwOTZlXkEyXkFqcGdeQXVyNTY2MzQ3MDE@._V1_Ratio0.7273_AL_.jpg                      1\n",
       "https://imdb-api.com/images/original/MV5BMzJjZWRhNDItNGY4ZS00NWY1LTllZTgtZTE2NDY1NWU1ODIxXkEyXkFqcGdeQXVyMzkzODQwMA@@._V1_Ratio1.3182_AL_.jpg                      1\n",
       "https://imdb-api.com/images/original/MV5BOWU3ZjhiNGMtYzM1YS00MWQzLThmY2UtYjAxYTllM2U3Yjk5XkEyXkFqcGdeQXVyMjMxMDM2NjY@._V1_Ratio0.7273_AL_.jpg                      1\n",
       "https://imdb-api.com/images/original/MV5BMTM1ZjMyZTYtZGRlOS00ZjkzLWExN2QtZDQ4YmRmODQxZmEyXkEyXkFqcGdeQXVyNjU0NTI0Nw@@._V1_Ratio0.7273_AL_.jpg                      1\n",
       "https://imdb-api.com/images/original/MV5BNjkwODUzMzY0NF5BMl5BanBnXkFtZTcwMDE5NjAyMQ@@._V1_Ratio0.7273_AL_.jpg                                                      1\n",
       "Name: url, Length: 2202, dtype: int64"
      ]
     },
     "execution_count": 34,
     "metadata": {},
     "output_type": "execute_result"
    }
   ],
   "source": [
    "df_titulos_fusion[\"url\"].value_counts()"
   ]
  },
  {
   "cell_type": "markdown",
   "metadata": {},
   "source": [
    "---"
   ]
  },
  {
   "cell_type": "markdown",
   "metadata": {},
   "source": [
    "----"
   ]
  }
 ],
 "metadata": {
  "kernelspec": {
   "display_name": "Python 3",
   "language": "python",
   "name": "python3"
  },
  "language_info": {
   "codemirror_mode": {
    "name": "ipython",
    "version": 3
   },
   "file_extension": ".py",
   "mimetype": "text/x-python",
   "name": "python",
   "nbconvert_exporter": "python",
   "pygments_lexer": "ipython3",
   "version": "3.6.8"
  }
 },
 "nbformat": 4,
 "nbformat_minor": 2
}
