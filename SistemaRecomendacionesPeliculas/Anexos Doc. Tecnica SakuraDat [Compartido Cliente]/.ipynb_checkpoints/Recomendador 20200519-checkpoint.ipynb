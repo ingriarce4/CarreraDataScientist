{
 "cells": [
  {
   "cell_type": "markdown",
   "metadata": {},
   "source": [
    "# Prueba - Fundamentos Data Science\n",
    "---\n",
    "Martes 19 de mayo de 2020, Santiago de Chile\n",
    "\n",
    "### Sakura SPA\n",
    "**Miembros de la Célula:** \n",
    "\n",
    "Susana Arce\n",
    "\n",
    "Fabiola Aravena\n",
    "\n",
    "Rodrigo Pereira\n",
    "\n",
    "--- \n",
    "\n",
    "**Administrador de Contrato:** Gonzalo Seguel\n",
    "\n",
    "**Sponsor:** Andrea Villaroel\n",
    "\n",
    "---  \n",
    "\n",
    "#### Objetivo:\n",
    "Nuestro sponsor posee un cátalogo de contenido audiovisual de 12.294 títulos de Anime, requiere poder efecturar recomendaciones de qué ver a los usuarios en base a otros Anime han sido de su gusto.\n",
    "\n",
    "#### Propuesta:\n",
    "Aplicación web en donde el usuario seleccione de una lista de Anime propuestos los que han sido de su gusto, y en base a ello se le entregue una lista de otras alternativas que sean a fin con sus preferencias."
   ]
  },
  {
   "cell_type": "markdown",
   "metadata": {},
   "source": [
    "---\n",
    "## Recomendador de Películas\n",
    "\n",
    "El presente código procesa el resultado de modelamiento, entregado en formato .csv\n",
    "y genera una lista de animes sugeridos.\n",
    "\n",
    "Finalmente se incluye un prototipo de algoritmo que se implementará en la plataforma web."
   ]
  },
  {
   "cell_type": "code",
   "execution_count": 450,
   "metadata": {},
   "outputs": [],
   "source": [
    "# Importación de librerías para procesamiento de datos.\n",
    "import pandas as pd\n",
    "import numpy as np\n",
    "\n",
    "import matplotlib.pyplot as plt\n",
    "import seaborn as sns\n",
    "plt.style.use('seaborn')\n",
    "\n",
    "import re\n",
    "import random as random\n",
    "\n",
    "import requests\n",
    "from ipywidgets import Image\n",
    "\n",
    "import warnings\n",
    "warnings.filterwarnings(action=\"ignore\")"
   ]
  },
  {
   "cell_type": "code",
   "execution_count": 489,
   "metadata": {},
   "outputs": [],
   "source": [
    "subgenre = [\"Action\",\"Adventure\",\"Cars\",\"Comedy\",\"Dementia\",\"Demons\",\"Drama\",\"Ecchi\",\"Fantasy\",\"Game\",\"Harem\",\"Hentai\",\"Historical\",\"Horror\",\"Josei\",\"Kids\",\"Magic\",\"MartialArts\",\"Mecha\",\"Military\",\"Music\",\"Mystery\",\"Parody\",\"Police\",\"Psychological\",\"Romance\",\"Samurai\",\n",
    "\"School\",\"Sci-Fi\",\"Seinen\",\"Shoujo\",\"ShoujoAi\",\"Shounen\",\"ShounenAi\",\"SliceofLife\",\"Space\",\"Sports\",\"Supernatural\",\"SuperPower\",\"Thriller\",\"Vampire\",\"Yaoi\",\"Yuri\"]"
   ]
  },
  {
   "cell_type": "markdown",
   "metadata": {},
   "source": [
    "### Recogida de datos"
   ]
  },
  {
   "cell_type": "code",
   "execution_count": 232,
   "metadata": {},
   "outputs": [],
   "source": [
    "#Importamos los data sets para su uso\n",
    "# Los archivos pueden ser descargados desde:\n",
    "# https://drive.google.com/open?id=1TlhsxxaTENAO6xIw-EvvZhRAuJaJtPFB\n",
    "\n",
    "df_titulos_VF = pd.read_csv(\"titulos_generos_VF20200519.csv\", sep=\";\") \n",
    "df_interacciones = pd.read_csv(\"interacciones_generos_VF.csv\", sep=\";\") \n",
    "vs_afinidad_generos = pd.read_csv('vs_afinidad_generos_VF.csv',sep=';')\n",
    "vs_generos_max = pd.read_csv('vs_afin_maxgen_VF.csv',sep=';')"
   ]
  },
  {
   "cell_type": "code",
   "execution_count": 3,
   "metadata": {
    "scrolled": true
   },
   "outputs": [
    {
     "data": {
      "text/plain": [
       "(7492, 53)"
      ]
     },
     "execution_count": 3,
     "metadata": {},
     "output_type": "execute_result"
    }
   ],
   "source": [
    "df_titulos_VF.shape"
   ]
  },
  {
   "cell_type": "code",
   "execution_count": 116,
   "metadata": {},
   "outputs": [
    {
     "data": {
      "text/html": [
       "<div>\n",
       "<style scoped>\n",
       "    .dataframe tbody tr th:only-of-type {\n",
       "        vertical-align: middle;\n",
       "    }\n",
       "\n",
       "    .dataframe tbody tr th {\n",
       "        vertical-align: top;\n",
       "    }\n",
       "\n",
       "    .dataframe thead th {\n",
       "        text-align: right;\n",
       "    }\n",
       "</style>\n",
       "<table border=\"1\" class=\"dataframe\">\n",
       "  <thead>\n",
       "    <tr style=\"text-align: right;\">\n",
       "      <th></th>\n",
       "      <th>Unnamed: 0</th>\n",
       "      <th>anime_id</th>\n",
       "      <th>url</th>\n",
       "      <th>name</th>\n",
       "      <th>genre</th>\n",
       "      <th>type</th>\n",
       "      <th>episodes</th>\n",
       "      <th>rating</th>\n",
       "      <th>members</th>\n",
       "      <th>log_members</th>\n",
       "      <th>...</th>\n",
       "      <th>ShounenAi</th>\n",
       "      <th>SliceofLife</th>\n",
       "      <th>Space</th>\n",
       "      <th>Sports</th>\n",
       "      <th>Supernatural</th>\n",
       "      <th>SuperPower</th>\n",
       "      <th>Thriller</th>\n",
       "      <th>Vampire</th>\n",
       "      <th>Yaoi</th>\n",
       "      <th>Yuri</th>\n",
       "    </tr>\n",
       "  </thead>\n",
       "  <tbody>\n",
       "    <tr>\n",
       "      <th>4689</th>\n",
       "      <td>4689</td>\n",
       "      <td>32935</td>\n",
       "      <td>https://imdb-api.com/images/original/MV5BNzQ1M...</td>\n",
       "      <td>Haikyuu!!: Karasuno Koukou VS Shiratorizawa Ga...</td>\n",
       "      <td>Comedy, Drama, School, Shounen, Sports</td>\n",
       "      <td>TV</td>\n",
       "      <td>10.0</td>\n",
       "      <td>9.15</td>\n",
       "      <td>93351</td>\n",
       "      <td>11.444122</td>\n",
       "      <td>...</td>\n",
       "      <td>NaN</td>\n",
       "      <td>NaN</td>\n",
       "      <td>NaN</td>\n",
       "      <td>1.0</td>\n",
       "      <td>NaN</td>\n",
       "      <td>NaN</td>\n",
       "      <td>NaN</td>\n",
       "      <td>NaN</td>\n",
       "      <td>NaN</td>\n",
       "      <td>NaN</td>\n",
       "    </tr>\n",
       "    <tr>\n",
       "      <th>0</th>\n",
       "      <td>0</td>\n",
       "      <td>820</td>\n",
       "      <td>NaN</td>\n",
       "      <td>Ginga Eiyuu Densetsu</td>\n",
       "      <td>Drama, Military, Sci-Fi, Space</td>\n",
       "      <td>OVA</td>\n",
       "      <td>110.0</td>\n",
       "      <td>9.11</td>\n",
       "      <td>80679</td>\n",
       "      <td>11.298234</td>\n",
       "      <td>...</td>\n",
       "      <td>NaN</td>\n",
       "      <td>NaN</td>\n",
       "      <td>1.0</td>\n",
       "      <td>NaN</td>\n",
       "      <td>NaN</td>\n",
       "      <td>NaN</td>\n",
       "      <td>NaN</td>\n",
       "      <td>NaN</td>\n",
       "      <td>NaN</td>\n",
       "      <td>NaN</td>\n",
       "    </tr>\n",
       "    <tr>\n",
       "      <th>4690</th>\n",
       "      <td>4690</td>\n",
       "      <td>28851</td>\n",
       "      <td>https://imdb-api.com/images/original/MV5BZGRkO...</td>\n",
       "      <td>Koe no Katachi</td>\n",
       "      <td>Drama, School, Shounen</td>\n",
       "      <td>Movie</td>\n",
       "      <td>1.0</td>\n",
       "      <td>9.05</td>\n",
       "      <td>102733</td>\n",
       "      <td>11.539889</td>\n",
       "      <td>...</td>\n",
       "      <td>NaN</td>\n",
       "      <td>NaN</td>\n",
       "      <td>NaN</td>\n",
       "      <td>NaN</td>\n",
       "      <td>NaN</td>\n",
       "      <td>NaN</td>\n",
       "      <td>NaN</td>\n",
       "      <td>NaN</td>\n",
       "      <td>NaN</td>\n",
       "      <td>NaN</td>\n",
       "    </tr>\n",
       "    <tr>\n",
       "      <th>3672</th>\n",
       "      <td>3672</td>\n",
       "      <td>26259</td>\n",
       "      <td>NaN</td>\n",
       "      <td>Mienu Me ni Kanjita Kumotoriyama no Asahi</td>\n",
       "      <td>Drama, Kids</td>\n",
       "      <td>OVA</td>\n",
       "      <td>1.0</td>\n",
       "      <td>9.00</td>\n",
       "      <td>47</td>\n",
       "      <td>3.850148</td>\n",
       "      <td>...</td>\n",
       "      <td>NaN</td>\n",
       "      <td>NaN</td>\n",
       "      <td>NaN</td>\n",
       "      <td>NaN</td>\n",
       "      <td>NaN</td>\n",
       "      <td>NaN</td>\n",
       "      <td>NaN</td>\n",
       "      <td>NaN</td>\n",
       "      <td>NaN</td>\n",
       "      <td>NaN</td>\n",
       "    </tr>\n",
       "    <tr>\n",
       "      <th>4691</th>\n",
       "      <td>4691</td>\n",
       "      <td>28957</td>\n",
       "      <td>https://imdb-api.com/images/original/MV5BMjM5N...</td>\n",
       "      <td>Mushishi Zoku Shou: Suzu no Shizuku</td>\n",
       "      <td>Adventure, Fantasy, Historical, Mystery, Seine...</td>\n",
       "      <td>Movie</td>\n",
       "      <td>1.0</td>\n",
       "      <td>8.75</td>\n",
       "      <td>32266</td>\n",
       "      <td>10.381769</td>\n",
       "      <td>...</td>\n",
       "      <td>NaN</td>\n",
       "      <td>1.0</td>\n",
       "      <td>NaN</td>\n",
       "      <td>NaN</td>\n",
       "      <td>1.0</td>\n",
       "      <td>NaN</td>\n",
       "      <td>NaN</td>\n",
       "      <td>NaN</td>\n",
       "      <td>NaN</td>\n",
       "      <td>NaN</td>\n",
       "    </tr>\n",
       "  </tbody>\n",
       "</table>\n",
       "<p>5 rows × 53 columns</p>\n",
       "</div>"
      ],
      "text/plain": [
       "      Unnamed: 0  anime_id                                                url  \\\n",
       "4689        4689     32935  https://imdb-api.com/images/original/MV5BNzQ1M...   \n",
       "0              0       820                                                NaN   \n",
       "4690        4690     28851  https://imdb-api.com/images/original/MV5BZGRkO...   \n",
       "3672        3672     26259                                                NaN   \n",
       "4691        4691     28957  https://imdb-api.com/images/original/MV5BMjM5N...   \n",
       "\n",
       "                                                   name  \\\n",
       "4689  Haikyuu!!: Karasuno Koukou VS Shiratorizawa Ga...   \n",
       "0                                  Ginga Eiyuu Densetsu   \n",
       "4690                                     Koe no Katachi   \n",
       "3672          Mienu Me ni Kanjita Kumotoriyama no Asahi   \n",
       "4691                Mushishi Zoku Shou: Suzu no Shizuku   \n",
       "\n",
       "                                                  genre   type  episodes  \\\n",
       "4689             Comedy, Drama, School, Shounen, Sports     TV      10.0   \n",
       "0                        Drama, Military, Sci-Fi, Space    OVA     110.0   \n",
       "4690                             Drama, School, Shounen  Movie       1.0   \n",
       "3672                                        Drama, Kids    OVA       1.0   \n",
       "4691  Adventure, Fantasy, Historical, Mystery, Seine...  Movie       1.0   \n",
       "\n",
       "      rating  members  log_members  ...  ShounenAi  SliceofLife  Space  \\\n",
       "4689    9.15    93351    11.444122  ...        NaN          NaN    NaN   \n",
       "0       9.11    80679    11.298234  ...        NaN          NaN    1.0   \n",
       "4690    9.05   102733    11.539889  ...        NaN          NaN    NaN   \n",
       "3672    9.00       47     3.850148  ...        NaN          NaN    NaN   \n",
       "4691    8.75    32266    10.381769  ...        NaN          1.0    NaN   \n",
       "\n",
       "      Sports  Supernatural  SuperPower  Thriller  Vampire  Yaoi  Yuri  \n",
       "4689     1.0           NaN         NaN       NaN      NaN   NaN   NaN  \n",
       "0        NaN           NaN         NaN       NaN      NaN   NaN   NaN  \n",
       "4690     NaN           NaN         NaN       NaN      NaN   NaN   NaN  \n",
       "3672     NaN           NaN         NaN       NaN      NaN   NaN   NaN  \n",
       "4691     NaN           1.0         NaN       NaN      NaN   NaN   NaN  \n",
       "\n",
       "[5 rows x 53 columns]"
      ]
     },
     "execution_count": 116,
     "metadata": {},
     "output_type": "execute_result"
    }
   ],
   "source": [
    "df_titulos_VF.sort_values([\"rating\",\"log_members\"],ascending=False,inplace=True)\n",
    "df_titulos_VF.head()"
   ]
  },
  {
   "cell_type": "code",
   "execution_count": 4,
   "metadata": {},
   "outputs": [
    {
     "data": {
      "text/plain": [
       "(775258, 57)"
      ]
     },
     "execution_count": 4,
     "metadata": {},
     "output_type": "execute_result"
    }
   ],
   "source": [
    "df_interacciones.shape"
   ]
  },
  {
   "cell_type": "code",
   "execution_count": 5,
   "metadata": {},
   "outputs": [
    {
     "data": {
      "text/plain": [
       "(48303, 44)"
      ]
     },
     "execution_count": 5,
     "metadata": {},
     "output_type": "execute_result"
    }
   ],
   "source": [
    "vs_afinidad_generos.shape"
   ]
  },
  {
   "cell_type": "code",
   "execution_count": 6,
   "metadata": {},
   "outputs": [
    {
     "data": {
      "text/plain": [
       "(48303, 51)"
      ]
     },
     "execution_count": 6,
     "metadata": {},
     "output_type": "execute_result"
    }
   ],
   "source": [
    "vs_generos_max.shape"
   ]
  },
  {
   "cell_type": "markdown",
   "metadata": {},
   "source": [
    "***\n",
    "Estos data sets fueron procesados anteriormente en la fase procesamiento, para ser traspasados a modelamiento. Ahora se utilizarán para la predicción final.\n",
    "*** "
   ]
  },
  {
   "cell_type": "code",
   "execution_count": 56,
   "metadata": {},
   "outputs": [],
   "source": [
    "# Importamos la predicción apriori\n",
    "\n",
    "predic_apriori = pd.read_csv(\"apriori_generos_000050012.csv\", sep=\";\",\n",
    "                            header=None,\n",
    "                             names=[\"id1\",\"id2\",\"support\",\"confidence\",\"lift\"])"
   ]
  },
  {
   "cell_type": "code",
   "execution_count": 57,
   "metadata": {
    "scrolled": false
   },
   "outputs": [
    {
     "data": {
      "text/html": [
       "<div>\n",
       "<style scoped>\n",
       "    .dataframe tbody tr th:only-of-type {\n",
       "        vertical-align: middle;\n",
       "    }\n",
       "\n",
       "    .dataframe tbody tr th {\n",
       "        vertical-align: top;\n",
       "    }\n",
       "\n",
       "    .dataframe thead th {\n",
       "        text-align: right;\n",
       "    }\n",
       "</style>\n",
       "<table border=\"1\" class=\"dataframe\">\n",
       "  <thead>\n",
       "    <tr style=\"text-align: right;\">\n",
       "      <th></th>\n",
       "      <th>id1</th>\n",
       "      <th>id2</th>\n",
       "      <th>support</th>\n",
       "      <th>confidence</th>\n",
       "      <th>lift</th>\n",
       "    </tr>\n",
       "  </thead>\n",
       "  <tbody>\n",
       "    <tr>\n",
       "      <th>0</th>\n",
       "      <td>('Action',)</td>\n",
       "      <td>('Adventure',)</td>\n",
       "      <td>0.030660</td>\n",
       "      <td>0.172604</td>\n",
       "      <td>2.019414</td>\n",
       "    </tr>\n",
       "    <tr>\n",
       "      <th>1</th>\n",
       "      <td>('Action',)</td>\n",
       "      <td>('AdventureComedy',)</td>\n",
       "      <td>0.023173</td>\n",
       "      <td>0.130457</td>\n",
       "      <td>2.143079</td>\n",
       "    </tr>\n",
       "    <tr>\n",
       "      <th>2</th>\n",
       "      <td>('AdventureComedyEcchi',)</td>\n",
       "      <td>('Action',)</td>\n",
       "      <td>0.001159</td>\n",
       "      <td>0.684211</td>\n",
       "      <td>3.851903</td>\n",
       "    </tr>\n",
       "    <tr>\n",
       "      <th>3</th>\n",
       "      <td>('AdventureComedyGame',)</td>\n",
       "      <td>('Action',)</td>\n",
       "      <td>0.000802</td>\n",
       "      <td>1.000000</td>\n",
       "      <td>5.629704</td>\n",
       "    </tr>\n",
       "    <tr>\n",
       "      <th>4</th>\n",
       "      <td>('AdventureComedyMystery',)</td>\n",
       "      <td>('Action',)</td>\n",
       "      <td>0.000535</td>\n",
       "      <td>0.857143</td>\n",
       "      <td>4.825461</td>\n",
       "    </tr>\n",
       "  </tbody>\n",
       "</table>\n",
       "</div>"
      ],
      "text/plain": [
       "                           id1                   id2   support  confidence  \\\n",
       "0                  ('Action',)        ('Adventure',)  0.030660    0.172604   \n",
       "1                  ('Action',)  ('AdventureComedy',)  0.023173    0.130457   \n",
       "2    ('AdventureComedyEcchi',)           ('Action',)  0.001159    0.684211   \n",
       "3     ('AdventureComedyGame',)           ('Action',)  0.000802    1.000000   \n",
       "4  ('AdventureComedyMystery',)           ('Action',)  0.000535    0.857143   \n",
       "\n",
       "       lift  \n",
       "0  2.019414  \n",
       "1  2.143079  \n",
       "2  3.851903  \n",
       "3  5.629704  \n",
       "4  4.825461  "
      ]
     },
     "execution_count": 57,
     "metadata": {},
     "output_type": "execute_result"
    }
   ],
   "source": [
    "predic_apriori.head()"
   ]
  },
  {
   "cell_type": "markdown",
   "metadata": {},
   "source": [
    "### Procesamiento del resultado de predicción para utilizarlo"
   ]
  },
  {
   "cell_type": "code",
   "execution_count": 58,
   "metadata": {
    "scrolled": true
   },
   "outputs": [
    {
     "data": {
      "text/html": [
       "<div>\n",
       "<style scoped>\n",
       "    .dataframe tbody tr th:only-of-type {\n",
       "        vertical-align: middle;\n",
       "    }\n",
       "\n",
       "    .dataframe tbody tr th {\n",
       "        vertical-align: top;\n",
       "    }\n",
       "\n",
       "    .dataframe thead th {\n",
       "        text-align: right;\n",
       "    }\n",
       "</style>\n",
       "<table border=\"1\" class=\"dataframe\">\n",
       "  <thead>\n",
       "    <tr style=\"text-align: right;\">\n",
       "      <th></th>\n",
       "      <th>id1</th>\n",
       "      <th>id2</th>\n",
       "      <th>support</th>\n",
       "      <th>confidence</th>\n",
       "      <th>lift</th>\n",
       "    </tr>\n",
       "  </thead>\n",
       "  <tbody>\n",
       "    <tr>\n",
       "      <th>348</th>\n",
       "      <td>('HaremMusic',)</td>\n",
       "      <td>('Shoujo',)</td>\n",
       "      <td>0.002496</td>\n",
       "      <td>1.0</td>\n",
       "      <td>20.000000</td>\n",
       "    </tr>\n",
       "    <tr>\n",
       "      <th>1278</th>\n",
       "      <td>('HaremMusic',)</td>\n",
       "      <td>('Shoujo', 'nan')</td>\n",
       "      <td>0.002496</td>\n",
       "      <td>1.0</td>\n",
       "      <td>20.000000</td>\n",
       "    </tr>\n",
       "    <tr>\n",
       "      <th>232</th>\n",
       "      <td>('DementiaPsychological',)</td>\n",
       "      <td>('Romance',)</td>\n",
       "      <td>0.001961</td>\n",
       "      <td>1.0</td>\n",
       "      <td>12.169197</td>\n",
       "    </tr>\n",
       "    <tr>\n",
       "      <th>1076</th>\n",
       "      <td>('DementiaPsychological',)</td>\n",
       "      <td>('Romance', 'nan')</td>\n",
       "      <td>0.001961</td>\n",
       "      <td>1.0</td>\n",
       "      <td>12.169197</td>\n",
       "    </tr>\n",
       "    <tr>\n",
       "      <th>219</th>\n",
       "      <td>('ComedyRomanceSchoolSeinen',)</td>\n",
       "      <td>('SliceofLife',)</td>\n",
       "      <td>0.001783</td>\n",
       "      <td>1.0</td>\n",
       "      <td>19.411765</td>\n",
       "    </tr>\n",
       "  </tbody>\n",
       "</table>\n",
       "</div>"
      ],
      "text/plain": [
       "                                 id1                 id2   support  \\\n",
       "348                  ('HaremMusic',)         ('Shoujo',)  0.002496   \n",
       "1278                 ('HaremMusic',)   ('Shoujo', 'nan')  0.002496   \n",
       "232       ('DementiaPsychological',)        ('Romance',)  0.001961   \n",
       "1076      ('DementiaPsychological',)  ('Romance', 'nan')  0.001961   \n",
       "219   ('ComedyRomanceSchoolSeinen',)    ('SliceofLife',)  0.001783   \n",
       "\n",
       "      confidence       lift  \n",
       "348          1.0  20.000000  \n",
       "1278         1.0  20.000000  \n",
       "232          1.0  12.169197  \n",
       "1076         1.0  12.169197  \n",
       "219          1.0  19.411765  "
      ]
     },
     "execution_count": 58,
     "metadata": {},
     "output_type": "execute_result"
    }
   ],
   "source": [
    "predic_apriori.sort_values([\"confidence\",\"support\"],ascending=False,inplace=True)\n",
    "predic_apriori.head()"
   ]
  },
  {
   "cell_type": "code",
   "execution_count": 182,
   "metadata": {},
   "outputs": [],
   "source": [
    "def limpieza_id1(fila):\n",
    "    id1 = fila[\"id1\"]\n",
    "    id1 = id1.replace(\"'nan'\",\"\")\n",
    "    id1 = id1.replace(\"(\",\"\").replace(\")\",\"\").replace(\",\",\"\").replace(\"'\",\"\").replace(\" \",\"\")\n",
    "\n",
    "    id1 = id1.replace(\"MartialArts\",\"Tmp1\")\n",
    "    id1 = id1.replace(\"Sci-Fi\",\"Tmp2\")\n",
    "    id1 = id1.replace(\"ShoujoAi\",\"Tmp3\")\n",
    "    id1 = id1.replace(\"ShounenAi\",\"Tmp4\")\n",
    "    id1 = id1.replace(\"SliceofLife\",\"Tmp5\")\n",
    "    id1 = id1.replace(\"SuperPower\",\"Tmp6\")\n",
    "    \n",
    "    \n",
    "    id1 = re.findall('[A-Z][^A-Z]*',id1) \n",
    "    \n",
    "    if len(id1)==1:\n",
    "        id1_final = id1[0]\n",
    "        id1_final = id1_final.replace(\"Tmp1\",\"MartialArts\")\n",
    "        id1_final = id1_final.replace(\"Tmp2\",\"Sci-Fi\")\n",
    "        id1_final = id1_final.replace(\"Tmp3\",\"ShoujoAi\")\n",
    "        id1_final = id1_final.replace(\"Tmp4\",\"ShounenAi\")\n",
    "        id1_final = id1_final.replace(\"Tmp5\",\"SliceofLife\")\n",
    "        id1_final = id1_final.replace(\"Tmp6\",\"SuperPower\")\n",
    "        \n",
    "    else:\n",
    "        id1_final = None\n",
    "      \n",
    "    return id1_final\n",
    "\n",
    "\n",
    "\n",
    "def limpieza_id2(fila):\n",
    "    id2 = fila.id2\n",
    "    id2 = id2.replace(\"'nan'\",\"\")\n",
    "    id2 = id2.replace(\"(\",\"\").replace(\")\",\"\").replace(\",\",\"\").replace(\"'\",\"\").replace(\" \",\"\")\n",
    "\n",
    "    \n",
    "    id2 = id2.replace(\"MartialArts\",\"Tmp1\")\n",
    "    id2 = id2.replace(\"Sci-Fi\",\"Tmp2\")\n",
    "    id2 = id2.replace(\"ShoujoAi\",\"Tmp3\")\n",
    "    id2 = id2.replace(\"ShounenAi\",\"Tmp4\")\n",
    "    id2 = id2.replace(\"SliceofLife\",\"Tmp5\")   \n",
    "    id2 = id2.replace(\"SuperPower\",\"Tmp6\")\n",
    "    \n",
    "    id2 = re.findall('[A-Z][^A-Z]*',id2)\n",
    "    \n",
    "    id2_final=[]\n",
    "    \n",
    "    for k in id2[0:3]:\n",
    "        k = k.replace(\"Tmp1\",\"MartialArts\")\n",
    "        k = k.replace(\"Tmp2\",\"Sci-Fi\")\n",
    "        k = k.replace(\"Tmp3\",\"ShoujoAi\")\n",
    "        k = k.replace(\"Tmp4\",\"ShounenAi\")\n",
    "        k = k.replace(\"Tmp5\",\"SliceofLife\")\n",
    "        k = k.replace(\"Tmp6\",\"SuperPower\")\n",
    "        id2_final.append(k)\n",
    "    \n",
    "    \n",
    "    return id2_final\n",
    "\n",
    "\n",
    "predic_apriori[\"id1pro\"] = predic_apriori.apply((limpieza_id1), axis=1)\n",
    "predic_apriori[\"id2pro\"] = predic_apriori.apply((limpieza_id2), axis=1)"
   ]
  },
  {
   "cell_type": "code",
   "execution_count": 183,
   "metadata": {
    "scrolled": false
   },
   "outputs": [
    {
     "data": {
      "text/html": [
       "<div>\n",
       "<style scoped>\n",
       "    .dataframe tbody tr th:only-of-type {\n",
       "        vertical-align: middle;\n",
       "    }\n",
       "\n",
       "    .dataframe tbody tr th {\n",
       "        vertical-align: top;\n",
       "    }\n",
       "\n",
       "    .dataframe thead th {\n",
       "        text-align: right;\n",
       "    }\n",
       "</style>\n",
       "<table border=\"1\" class=\"dataframe\">\n",
       "  <thead>\n",
       "    <tr style=\"text-align: right;\">\n",
       "      <th></th>\n",
       "      <th>id1</th>\n",
       "      <th>id2</th>\n",
       "      <th>support</th>\n",
       "      <th>confidence</th>\n",
       "      <th>lift</th>\n",
       "      <th>id1pro</th>\n",
       "      <th>id2pro</th>\n",
       "    </tr>\n",
       "  </thead>\n",
       "  <tbody>\n",
       "    <tr>\n",
       "      <th>348</th>\n",
       "      <td>('HaremMusic',)</td>\n",
       "      <td>('Shoujo',)</td>\n",
       "      <td>0.002496</td>\n",
       "      <td>1.0</td>\n",
       "      <td>20.000000</td>\n",
       "      <td>None</td>\n",
       "      <td>[Shoujo]</td>\n",
       "    </tr>\n",
       "    <tr>\n",
       "      <th>1278</th>\n",
       "      <td>('HaremMusic',)</td>\n",
       "      <td>('Shoujo', 'nan')</td>\n",
       "      <td>0.002496</td>\n",
       "      <td>1.0</td>\n",
       "      <td>20.000000</td>\n",
       "      <td>None</td>\n",
       "      <td>[Shoujo]</td>\n",
       "    </tr>\n",
       "    <tr>\n",
       "      <th>232</th>\n",
       "      <td>('DementiaPsychological',)</td>\n",
       "      <td>('Romance',)</td>\n",
       "      <td>0.001961</td>\n",
       "      <td>1.0</td>\n",
       "      <td>12.169197</td>\n",
       "      <td>None</td>\n",
       "      <td>[Romance]</td>\n",
       "    </tr>\n",
       "    <tr>\n",
       "      <th>1076</th>\n",
       "      <td>('DementiaPsychological',)</td>\n",
       "      <td>('Romance', 'nan')</td>\n",
       "      <td>0.001961</td>\n",
       "      <td>1.0</td>\n",
       "      <td>12.169197</td>\n",
       "      <td>None</td>\n",
       "      <td>[Romance]</td>\n",
       "    </tr>\n",
       "    <tr>\n",
       "      <th>219</th>\n",
       "      <td>('ComedyRomanceSchoolSeinen',)</td>\n",
       "      <td>('SliceofLife',)</td>\n",
       "      <td>0.001783</td>\n",
       "      <td>1.0</td>\n",
       "      <td>19.411765</td>\n",
       "      <td>None</td>\n",
       "      <td>[SliceofLife]</td>\n",
       "    </tr>\n",
       "  </tbody>\n",
       "</table>\n",
       "</div>"
      ],
      "text/plain": [
       "                                 id1                 id2   support  \\\n",
       "348                  ('HaremMusic',)         ('Shoujo',)  0.002496   \n",
       "1278                 ('HaremMusic',)   ('Shoujo', 'nan')  0.002496   \n",
       "232       ('DementiaPsychological',)        ('Romance',)  0.001961   \n",
       "1076      ('DementiaPsychological',)  ('Romance', 'nan')  0.001961   \n",
       "219   ('ComedyRomanceSchoolSeinen',)    ('SliceofLife',)  0.001783   \n",
       "\n",
       "      confidence       lift id1pro         id2pro  \n",
       "348          1.0  20.000000   None       [Shoujo]  \n",
       "1278         1.0  20.000000   None       [Shoujo]  \n",
       "232          1.0  12.169197   None      [Romance]  \n",
       "1076         1.0  12.169197   None      [Romance]  \n",
       "219          1.0  19.411765   None  [SliceofLife]  "
      ]
     },
     "execution_count": 183,
     "metadata": {},
     "output_type": "execute_result"
    }
   ],
   "source": [
    "predic_apriori.head()"
   ]
  },
  {
   "cell_type": "markdown",
   "metadata": {},
   "source": [
    "***\n",
    "Se obtienen 2 columnas nuevas procesadas que relacionan directamente el genero sugerido por el modelamiento con algún genero existente, el cual se utilizará para hacer el match con el género más afin de cada usuario\n",
    "***\n"
   ]
  },
  {
   "cell_type": "markdown",
   "metadata": {},
   "source": [
    "### Selección de usuario\n",
    "\n",
    "Vamos a generar el supuesto flujo del usuario en la plataforma, considerando las posibilidades de que sea un usuario nuevo o un usuario registrado"
   ]
  },
  {
   "cell_type": "code",
   "execution_count": 313,
   "metadata": {},
   "outputs": [],
   "source": [
    "t_user = random.choice([\"N\",\"E\"]) # N: Usuario Nuevo E: Usuario Existente"
   ]
  },
  {
   "cell_type": "code",
   "execution_count": 329,
   "metadata": {},
   "outputs": [],
   "source": [
    "# Simular de Ingreso al sitio\n",
    "\n",
    "if t_user is \"N\":\n",
    "    seleccion = random.sample(df_interacciones[\"anime_id\"].tolist(),10) #simula la seleccion del usuario nuevo\n",
    "elif t_user is \"E\":\n",
    "    usuario = random.sample(df_interacciones[\"user_id\"].tolist(),1)[0] #simula el ingreso del user_id"
   ]
  },
  {
   "cell_type": "markdown",
   "metadata": {},
   "source": [
    "### Búsqueda del género afin\n",
    "Determinamos el género o los géneros más afin para los usuarios nuevos o registrados"
   ]
  },
  {
   "cell_type": "code",
   "execution_count": 363,
   "metadata": {},
   "outputs": [],
   "source": [
    "def max_genre_nuevo(seleccion):\n",
    "# Determina el género de máxima afinidad con el usuario a partir del \n",
    "#indicador de afinidad construído y aplicado a su selección de títulos entregada    \n",
    "    \n",
    "    data_new_user = pd.merge(left = pd.DataFrame({\"anime_id\":seleccion}),left_on=\"anime_id\",\n",
    "                             right = df_titulos_VF , right_on =\"anime_id\")\n",
    "    data_new_user[\"user_id\"] = \"N001\" #Para posteriormente construir una base de las interacciones de usuarios no registrados\n",
    "    tmp = pd.pivot_table(data_new_user,values=subgenre,index=[\"user_id\"],aggfunc=sum).fillna(0)\n",
    "    tmp1= np.argmax(tmp.iloc[0])\n",
    "    max1=[]\n",
    "    max1.append(tmp1)\n",
    "    return max1    \n",
    "    \n",
    "def max_genres(usuario):\n",
    "# Determina el género de máxima afinidad con el usuario a partir del \n",
    "#indicador de afinidad construído y aplicado a su registro historico\n",
    "    max1 = vs_generos_max[vs_generos_max[\"user_id\"] == usuario].loc[:,\"Maximos\"].tolist()[0]\n",
    "    max1 = max1.replace(\"[\",\"\").replace(\"]\",\"\").replace(\"'\",\"\").replace(\" \",\"\").split(\",\")\n",
    "    return max1"
   ]
  },
  {
   "cell_type": "markdown",
   "metadata": {},
   "source": [
    "#### Se realiza el cruce de la predicción y luego con los animes a recomendar."
   ]
  },
  {
   "cell_type": "code",
   "execution_count": 354,
   "metadata": {},
   "outputs": [],
   "source": [
    "def recomendar_genres(max1):\n",
    "# Obtiene el o los géneros entregados como predicción por el algoritmo aprioro\n",
    "    rec_genre = []\n",
    "    for i in max1:\n",
    "        for k in predic_apriori[predic_apriori[\"id1pro\"]==i].loc[:,\"id2pro\"].tolist()[0]:\n",
    "            rec_genre.append(k)\n",
    "    return rec_genre\n",
    "\n",
    "def recomendar_anime(rec_genre):\n",
    "# A partir de la predicción de género, se selecciona la lista de películas a sugerir.\n",
    "\n",
    "    animes_rec = []\n",
    "    for i in rec_genre:\n",
    "        #tmp = df_titulos_VF[df_titulos_VF[i]==1].loc[:,\"anime_id\"] #Exponemos método alternativo para asegurar visualización de imagenes.\n",
    "        tmp = df_titulos_VF[~df_titulos_VF[\"url\"].isnull()][df_titulos_VF[i]==1].loc[:,\"anime_id\"]\n",
    "        for j in tmp:\n",
    "            animes_rec.append(j)\n",
    "    return animes_rec\n",
    "\n",
    "def filtrar_anime(animes_rec,usuario): \n",
    "# Sólo aplica a usuarios existentes, para no recomendar películas ya vistas.\n",
    "    animes_rec_vf = animes_rec\n",
    "    animes_visto = df_interacciones[df_interacciones[\"user_id\"]==usuario][\"anime_id\"]\n",
    "    for i in animes_visto:\n",
    "        try:\n",
    "            animes_rec.remove(i)\n",
    "        except ValueError:\n",
    "            pass\n",
    "    return animes_rec_vf"
   ]
  },
  {
   "cell_type": "markdown",
   "metadata": {},
   "source": [
    "#### Se realiza un simulador de la función de producción, que actua de setup general para operar en las funciones anteriormente definidas"
   ]
  },
  {
   "cell_type": "code",
   "execution_count": 470,
   "metadata": {},
   "outputs": [],
   "source": [
    "def produccion(t_user,\n",
    "               usuario=None,\n",
    "               seleccion=None):\n",
    "    print(\"--------------------------------------------------------------------------\")\n",
    "    if t_user is \"N\":\n",
    "        max1 = max_genre_nuevo(seleccion)\n",
    "        print(\"Hola nuevo usuario, bienvenido a nuestro recomendador de animes\")\n",
    "        print(\"Gracias por indicarnos tus títulos de referencia para iniciar la búsqueda\")\n",
    "    if t_user is \"E\":\n",
    "        max1 = max_genres(usuario)\n",
    "        print(\"Hola otra vez!\") \n",
    "        text =\"¿Cómo estas usuario \"+str(usuario)+\" ?\"\n",
    "        print(text)\n",
    "    \n",
    "    text = \"Te gusta el \"+max1[0]+\", porque no pruebas nuestras sugerencias!\"\n",
    "    print(text)\n",
    "    \n",
    "    rec1 = recomendar_genres(max1)\n",
    "    reco = recomendar_anime(rec1)\n",
    "\n",
    "    if t_user is \"N\":\n",
    "        VF = reco\n",
    "    if t_user is \"E\":\n",
    "        VF= filtrar_anime(reco,usuario)\n",
    "    print(\"\\n\")\n",
    "    print(\"\\n\")\n",
    "\n",
    "    for n,i in enumerate(VF[0:10]):\n",
    "        anime_recomendado = df_titulos_VF[df_titulos_VF[\"anime_id\"]==i]\n",
    "        titulo = anime_recomendado.loc[:,\"name\"].tolist()[0]\n",
    "        formato = anime_recomendado.loc[:,\"type\"].tolist()[0]\n",
    "        rating = anime_recomendado.loc[:,\"rating\"].tolist()[0]\n",
    "        poster = anime_recomendado.loc[:,\"url\"].tolist()[0]\n",
    "        print(\"Sugerencia \" + str(n+1))\n",
    "        print(titulo)\n",
    "        print(\"Es una excelente \"+ formato +\" evaluada con un \"+ str(rating))\n",
    "        if n ==0:\n",
    "            imagen = Image(value=requests.get(poster).content) \n",
    "        print(poster)\n",
    "        print(\"\\n\")\n",
    "    print(\"--------------------------------------------------------------------------\")\n",
    "    return imagen"
   ]
  },
  {
   "cell_type": "code",
   "execution_count": null,
   "metadata": {},
   "outputs": [],
   "source": []
  },
  {
   "cell_type": "markdown",
   "metadata": {},
   "source": [
    "### Prototipo para presentación\n",
    "\n",
    "Genera en primera instancia de forma aleatoria las posibilidades de usuarios nuevos o usuario existente.\n",
    "Además genera una lista de títulos seleccionados para simular el ingreso que debería realizar un nuevo usuario"
   ]
  },
  {
   "cell_type": "code",
   "execution_count": 493,
   "metadata": {},
   "outputs": [],
   "source": [
    "t_user = random.choice([\"N\",\"E\"]) # N: Usuario Nuevo E: Usuario Existente\n",
    "usuario = random.sample(df_interacciones[\"user_id\"].tolist(),1)[0],\n",
    "seleccion = random.sample(df_interacciones[\"anime_id\"].tolist(),10)"
   ]
  },
  {
   "cell_type": "code",
   "execution_count": 494,
   "metadata": {},
   "outputs": [
    {
     "name": "stdout",
     "output_type": "stream",
     "text": [
      "--------------------------------------------------------------------------\n",
      "Hola otra vez!\n",
      "¿Cómo estas usuario (39066,) ?\n",
      "Te gusta el Adventure, porque no pruebas nuestras sugerencias!\n",
      "\n",
      "\n",
      "\n",
      "\n",
      "Sugerencia 1\n",
      "Vampire Hunter\n",
      "Es una excelente OVA evaluada con un 6.83\n",
      "https://imdb-api.com/images/original/MV5BZjhkZTRlNTQtNTVkMy00NTgxLTk5N2EtMzZlODczZWE2ZTNhL2ltYWdlL2ltYWdlXkEyXkFqcGdeQXVyMzM4MjM0Nzg@._V1_Ratio0.8182_AL_.jpg\n",
      "\n",
      "\n",
      "Sugerencia 2\n",
      "Jie Mo Ren\n",
      "Es una excelente ONA evaluada con un 6.65\n",
      "https://imdb-api.com/images/original/nopicture.jpg\n",
      "\n",
      "\n",
      "Sugerencia 3\n",
      "Final Fantasy\n",
      "Es una excelente OVA evaluada con un 6.25\n",
      "https://imdb-api.com/images/original/nopicture.jpg\n",
      "\n",
      "\n",
      "Sugerencia 4\n",
      "Happy World!\n",
      "Es una excelente OVA evaluada con un 6.11\n",
      "https://imdb-api.com/images/original/MV5BY2E3MTNmNDctYTdmNi00NDY4LWE4NTctMmU1ZjQ5ZTczNDk1XkEyXkFqcGdeQXVyMTA2NDI0NDM0._V1_Ratio0.7273_AL_.jpg\n",
      "\n",
      "\n",
      "Sugerencia 5\n",
      "DragonBlade\n",
      "Es una excelente Movie evaluada con un 5.95\n",
      "https://imdb-api.com/images/original/MV5BYTQxZjA1YzktN2JiZS00OTdiLThlMmYtNTAyMTg3OWNhYzhiXkEyXkFqcGdeQXVyODE0OTY5MDg@._V1_Ratio0.7273_AL_.jpg\n",
      "\n",
      "\n",
      "Sugerencia 6\n",
      "Garo: Guren no Tsuki\n",
      "Es una excelente TV evaluada con un 5.96\n",
      "https://imdb-api.com/images/original/MV5BNTRmYjFiNTMtMjdhMC00ZmI0LTgyNTQtNTJlN2E5MmZhODc3XkEyXkFqcGdeQXVyNDQxNjIwNTI@._V1_Ratio0.7273_AL_.jpg\n",
      "\n",
      "\n",
      "Sugerencia 7\n",
      "GO-GO Tamagotchi!\n",
      "Es una excelente TV evaluada con un 7.17\n",
      "https://imdb-api.com/images/original/MV5BYTRmYmQxNjQtZTE2MS00NTUxLTgxNWItNDZjOWQyYzFjYmNiXkEyXkFqcGdeQXVyNzkwODIyMzc@._V1_Ratio0.7273_AL_.jpg\n",
      "\n",
      "\n",
      "Sugerencia 8\n",
      "Hyoutan Suzume\n",
      "Es una excelente Movie evaluada con un 5.0\n",
      "https://imdb-api.com/images/original/nopicture.jpg\n",
      "\n",
      "\n",
      "Sugerencia 9\n",
      "Jim Button\n",
      "Es una excelente TV evaluada con un 6.1\n",
      "https://imdb-api.com/images/original/nopicture.jpg\n",
      "\n",
      "\n",
      "Sugerencia 10\n",
      "Kanimanji Engi\n",
      "Es una excelente Movie evaluada con un 4.79\n",
      "https://imdb-api.com/images/original/nopicture.jpg\n",
      "\n",
      "\n",
      "--------------------------------------------------------------------------\n"
     ]
    },
    {
     "data": {
      "application/vnd.jupyter.widget-view+json": {
       "model_id": "ed4fd8609e8f43afbe633d401b1fcb5d",
       "version_major": 2,
       "version_minor": 0
      },
      "text/plain": [
       "Image(value=b'\\xff\\xd8\\xff\\xe0\\x00\\x10JFIF\\x00\\x01\\x01\\x00\\x00\\x01\\x00\\x01\\x00\\x00\\xff\\xdb\\x00C\\x00\\x02\\x01\\x0…"
      ]
     },
     "metadata": {},
     "output_type": "display_data"
    }
   ],
   "source": [
    "produccion(t_user,usuario,seleccion)"
   ]
  }
 ],
 "metadata": {
  "kernelspec": {
   "display_name": "Python 3 (ipykernel)",
   "language": "python",
   "name": "python3"
  },
  "language_info": {
   "codemirror_mode": {
    "name": "ipython",
    "version": 3
   },
   "file_extension": ".py",
   "mimetype": "text/x-python",
   "name": "python",
   "nbconvert_exporter": "python",
   "pygments_lexer": "ipython3",
   "version": "3.10.5"
  }
 },
 "nbformat": 4,
 "nbformat_minor": 2
}
